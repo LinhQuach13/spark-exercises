{
 "cells": [
  {
   "cell_type": "markdown",
   "metadata": {},
   "source": [
    "### Exercises\n",
    "- Data Acquisition\n",
    "- These exercises should go in a notebook or script named wrangle. Add, commit, and push your changes.\n",
    "\n",
    "- This exercises uses the case.csv, dept.csv, and source.csv files from the san antonio 311 call dataset.\n",
    "\n",
    "1. Read the case, department, and source data into their own spark dataframes.\n",
    "\n",
    "2. Let's see how writing to the local disk works in spark:\n",
    "\n",
    "    - Write the code necessary to store the source data in both csv and json format, store these as sources_csv and sources_json\n",
    "     - Inspect your folder structure. What do you notice?\n",
    "     \n",
    "3. Inspect the data in your dataframes. Are the data types appropriate? Write the code necessary to cast the values to the appropriate types.\n",
    "\n",
    "1. How old is the latest (in terms of days past SLA) currently open issue? How long has the oldest (in terms of days since opened) currently opened issue been open?\n",
    "\n",
    "2. How many Stray Animal cases are there?\n",
    "\n",
    "3. How many service requests that are assigned to the Field Operations department (dept_division) are not classified as \"Officer Standby\" request type (service_request_type)?\n",
    "\n",
    "4. Convert the council_district column to a string column.\n",
    "\n",
    "5. Extract the year from the case_closed_date column.\n",
    "\n",
    "6. Convert num_days_late from days to hours in new columns num_hours_late.\n",
    "\n",
    "7. Join the case data with the source and department data.\n",
    "\n",
    "8. Are there any cases that do not have a request source?\n",
    "\n",
    "9. What are the top 10 service request types in terms of number of requests?\n",
    "\n",
    "10. What are the top 10 service request types in terms of average days late?\n",
    "\n",
    "11. Does number of days late depend on department?\n",
    "\n",
    "12. How do number of days late depend on department and request type?\n"
   ]
  },
  {
   "cell_type": "markdown",
   "metadata": {},
   "source": [
    "# Import"
   ]
  },
  {
   "cell_type": "code",
   "execution_count": 1,
   "metadata": {},
   "outputs": [],
   "source": [
    "from pyspark.sql.functions import concat, sum, avg, min, max, count, mean\n",
    "from pyspark.sql import SparkSession\n",
    "from pyspark.sql.functions import *\n",
    "from pyspark.sql.types import StructType, StructField, StringType"
   ]
  },
  {
   "cell_type": "code",
   "execution_count": null,
   "metadata": {},
   "outputs": [],
   "source": []
  },
  {
   "cell_type": "markdown",
   "metadata": {},
   "source": [
    "#  Read the case, department, and source data into their own spark dataframes.\n",
    "\n",
    "# Let's see how writing to the local disk works in spark:\n",
    "\n",
    "    - Write the code necessary to store the source data in both csv and json format, store these as sources_csv and sources_json\n",
    "     - Inspect your folder structure. What do you notice?\n",
    "     "
   ]
  },
  {
   "cell_type": "code",
   "execution_count": 2,
   "metadata": {},
   "outputs": [],
   "source": [
    "spark = SparkSession.builder.getOrCreate()"
   ]
  },
  {
   "cell_type": "code",
   "execution_count": 3,
   "metadata": {},
   "outputs": [],
   "source": [
    "# Read in CSV file \n",
    "source = (spark.read.csv(\"source.csv\",\n",
    "                     sep=\",\",\n",
    "                     header=True,\n",
    "                     inferSchema=True)\n",
    "     )"
   ]
  },
  {
   "cell_type": "code",
   "execution_count": 4,
   "metadata": {},
   "outputs": [],
   "source": [
    "#creating schema\n",
    "schema = StructType(\n",
    "    [\n",
    "        StructField(\"source_id\", StringType()),\n",
    "        StructField(\"source_username\", StringType()),\n",
    "    ]\n",
    ")\n",
    "\n",
    "\n",
    "# Read csv, but now we specify the schema:\n",
    "\n",
    "source = spark.read.csv(\"source.csv\", header=True, schema=schema)"
   ]
  },
  {
   "cell_type": "code",
   "execution_count": 5,
   "metadata": {},
   "outputs": [
    {
     "name": "stdout",
     "output_type": "stream",
     "text": [
      "root\n",
      " |-- source_id: string (nullable = true)\n",
      " |-- source_username: string (nullable = true)\n",
      "\n"
     ]
    }
   ],
   "source": [
    "source.printSchema()"
   ]
  },
  {
   "cell_type": "code",
   "execution_count": 6,
   "metadata": {},
   "outputs": [
    {
     "name": "stdout",
     "output_type": "stream",
     "text": [
      "+---------+--------------------+\n",
      "|source_id|     source_username|\n",
      "+---------+--------------------+\n",
      "|   100137|    Merlene Blodgett|\n",
      "|   103582|         Carmen Cura|\n",
      "|   106463|     Richard Sanchez|\n",
      "|   119403|      Betty De Hoyos|\n",
      "|   119555|      Socorro Quiara|\n",
      "|   119868| Michelle San Miguel|\n",
      "|   120752|      Eva T. Kleiber|\n",
      "|   124405|           Lori Lara|\n",
      "|   132408|       Leonard Silva|\n",
      "|   135723|        Amy Cardenas|\n",
      "|   136202|    Michelle Urrutia|\n",
      "|   136979|      Leticia Garcia|\n",
      "|   137943|    Pamela K. Baccus|\n",
      "|   138605|        Marisa Ozuna|\n",
      "|   138650|      Kimberly Green|\n",
      "|   138650|Kimberly Green-Woods|\n",
      "|   138793| Guadalupe Rodriguez|\n",
      "|   138810|       Tawona Martin|\n",
      "|   139342|     Jessica Mendoza|\n",
      "|   139344|        Isis Mendoza|\n",
      "+---------+--------------------+\n",
      "only showing top 20 rows\n",
      "\n"
     ]
    }
   ],
   "source": [
    "#Llooking at values in source\n",
    "source.show()"
   ]
  },
  {
   "cell_type": "code",
   "execution_count": 7,
   "metadata": {},
   "outputs": [],
   "source": [
    "# write data to a destination using .write property\n",
    "\n",
    "source.write.json(\"source_json\", mode=\"overwrite\")"
   ]
  },
  {
   "cell_type": "markdown",
   "metadata": {},
   "source": [
    "# Inspect the data in your dataframes. Are the data types appropriate? Write the code necessary to cast the values to the appropriate types.\n"
   ]
  },
  {
   "cell_type": "code",
   "execution_count": 8,
   "metadata": {},
   "outputs": [
    {
     "data": {
      "text/plain": [
       "[('source_id', 'string'), ('source_username', 'string')]"
      ]
     },
     "execution_count": 8,
     "metadata": {},
     "output_type": "execute_result"
    }
   ],
   "source": [
    "# Looking at data types\n",
    "source.dtypes"
   ]
  },
  {
   "cell_type": "code",
   "execution_count": 9,
   "metadata": {},
   "outputs": [],
   "source": [
    "# Read the case.csv file\n",
    "\n",
    "df = spark.read.csv(\"case.csv\", header=True, inferSchema=True)"
   ]
  },
  {
   "cell_type": "code",
   "execution_count": 10,
   "metadata": {},
   "outputs": [
    {
     "name": "stdout",
     "output_type": "stream",
     "text": [
      "-RECORD 0-----------------------------------------------------\n",
      " case_id              | 1014127332                            \n",
      " case_opened_date     | 1/1/18 0:42                           \n",
      " case_closed_date     | 1/1/18 12:29                          \n",
      " SLA_due_date         | 9/26/20 0:42                          \n",
      " case_late            | NO                                    \n",
      " num_days_late        | -998.5087616000001                    \n",
      " case_closed          | YES                                   \n",
      " dept_division        | Field Operations                      \n",
      " service_request_type | Stray Animal                          \n",
      " SLA_days             | 999.0                                 \n",
      " case_status          | Closed                                \n",
      " source_id            | svcCRMLS                              \n",
      " request_address      | 2315  EL PASO ST, San Antonio, 78207  \n",
      " council_district     | 5                                     \n",
      "-RECORD 1-----------------------------------------------------\n",
      " case_id              | 1014127333                            \n",
      " case_opened_date     | 1/1/18 0:46                           \n",
      " case_closed_date     | 1/3/18 8:11                           \n",
      " SLA_due_date         | 1/5/18 8:30                           \n",
      " case_late            | NO                                    \n",
      " num_days_late        | -2.0126041669999997                   \n",
      " case_closed          | YES                                   \n",
      " dept_division        | Storm Water                           \n",
      " service_request_type | Removal Of Obstruction                \n",
      " SLA_days             | 4.322222222                           \n",
      " case_status          | Closed                                \n",
      " source_id            | svcCRMSS                              \n",
      " request_address      | 2215  GOLIAD RD, San Antonio, 78223   \n",
      " council_district     | 3                                     \n",
      "-RECORD 2-----------------------------------------------------\n",
      " case_id              | 1014127334                            \n",
      " case_opened_date     | 1/1/18 0:48                           \n",
      " case_closed_date     | 1/2/18 7:57                           \n",
      " SLA_due_date         | 1/5/18 8:30                           \n",
      " case_late            | NO                                    \n",
      " num_days_late        | -3.022337963                          \n",
      " case_closed          | YES                                   \n",
      " dept_division        | Storm Water                           \n",
      " service_request_type | Removal Of Obstruction                \n",
      " SLA_days             | 4.320729167                           \n",
      " case_status          | Closed                                \n",
      " source_id            | svcCRMSS                              \n",
      " request_address      | 102  PALFREY ST W, San Antonio, 78223 \n",
      " council_district     | 3                                     \n",
      "only showing top 3 rows\n",
      "\n"
     ]
    }
   ],
   "source": [
    "# look at first three records\n",
    "df.show(3, truncate = False, vertical = True)"
   ]
  },
  {
   "cell_type": "code",
   "execution_count": 11,
   "metadata": {},
   "outputs": [
    {
     "data": {
      "text/plain": [
       "[('case_id', 'int'),\n",
       " ('case_opened_date', 'string'),\n",
       " ('case_closed_date', 'string'),\n",
       " ('SLA_due_date', 'string'),\n",
       " ('case_late', 'string'),\n",
       " ('num_days_late', 'double'),\n",
       " ('case_closed', 'string'),\n",
       " ('dept_division', 'string'),\n",
       " ('service_request_type', 'string'),\n",
       " ('SLA_days', 'double'),\n",
       " ('case_status', 'string'),\n",
       " ('source_id', 'string'),\n",
       " ('request_address', 'string'),\n",
       " ('council_district', 'int')]"
      ]
     },
     "execution_count": 11,
     "metadata": {},
     "output_type": "execute_result"
    }
   ],
   "source": [
    "df.dtypes"
   ]
  },
  {
   "cell_type": "code",
   "execution_count": 12,
   "metadata": {},
   "outputs": [],
   "source": [
    "#changing case_id to a string\n",
    "df = df.withColumn('case_id', col('case_id').cast('string'))"
   ]
  },
  {
   "cell_type": "code",
   "execution_count": 13,
   "metadata": {},
   "outputs": [],
   "source": [
    "#changing district_id to a string\n",
    "df = df.withColumn('council_district', col('council_district').cast('string'))"
   ]
  },
  {
   "cell_type": "markdown",
   "metadata": {},
   "source": [
    "# 1. How old is the latest  currently open issue? How long has the oldest (in terms of days since opened) currently opened issue been open?"
   ]
  },
  {
   "cell_type": "code",
   "execution_count": 38,
   "metadata": {},
   "outputs": [
    {
     "data": {
      "text/plain": [
       "['case_id',\n",
       " 'case_opened_date',\n",
       " 'case_closed_date',\n",
       " 'SLA_due_date',\n",
       " 'case_late',\n",
       " 'num_days_late',\n",
       " 'case_closed',\n",
       " 'dept_division',\n",
       " 'service_request_type',\n",
       " 'SLA_days',\n",
       " 'case_status',\n",
       " 'source_id',\n",
       " 'request_address',\n",
       " 'council_district']"
      ]
     },
     "execution_count": 38,
     "metadata": {},
     "output_type": "execute_result"
    }
   ],
   "source": [
    "df.columns"
   ]
  },
  {
   "cell_type": "code",
   "execution_count": 26,
   "metadata": {},
   "outputs": [
    {
     "name": "stdout",
     "output_type": "stream",
     "text": [
      "+----------+----------------+----------------+-----------+----------+\n",
      "|   case_id|case_opened_date|case_closed_date|case_status|  SLA_days|\n",
      "+----------+----------------+----------------+-----------+----------+\n",
      "|1013896575|    9/22/17 8:27|            null|       Open|1419.00191|\n",
      "+----------+----------------+----------------+-----------+----------+\n",
      "only showing top 1 row\n",
      "\n"
     ]
    }
   ],
   "source": [
    "df[['case_id','case_opened_date', 'case_closed_date', 'case_status', 'SLA_days']].where(col('case_status') != 'Closed').sort(desc('SLA_days')).show(1)"
   ]
  },
  {
   "cell_type": "code",
   "execution_count": 24,
   "metadata": {},
   "outputs": [
    {
     "name": "stdout",
     "output_type": "stream",
     "text": [
      "+----------+----------------+----------------+-----------+--------+\n",
      "|   case_id|case_opened_date|case_closed_date|case_status|SLA_days|\n",
      "+----------+----------------+----------------+-----------+--------+\n",
      "|1013810864|   8/21/17 15:22|            null|       Open|    null|\n",
      "+----------+----------------+----------------+-----------+--------+\n",
      "only showing top 1 row\n",
      "\n"
     ]
    }
   ],
   "source": [
    "# How long has the oldest (in terms of days since opened) currently opened issue been open?\n",
    "df[['case_id','case_opened_date', 'case_closed_date', 'case_status', 'SLA_days']].where(col('case_status') != 'Closed').sort(asc('SLA_days')).show(1)"
   ]
  },
  {
   "cell_type": "code",
   "execution_count": 53,
   "metadata": {},
   "outputs": [
    {
     "name": "stdout",
     "output_type": "stream",
     "text": [
      "+-------------------+--------------------+\n",
      "|      num_days_late|      num_weeks_late|\n",
      "+-------------------+--------------------+\n",
      "| -998.5087616000001|        -142.6441088|\n",
      "|-2.0126041669999997|-0.28751488099999994|\n",
      "|       -3.022337963|-0.43176256614285713|\n",
      "|       -15.01148148| -2.1444973542857144|\n",
      "|0.37216435200000003|         0.053166336|\n",
      "|       -29.74398148|  -4.249140211428571|\n",
      "|       -14.70673611| -2.1009623014285714|\n",
      "|       -14.70662037|  -2.100945767142857|\n",
      "|       -14.70662037|  -2.100945767142857|\n",
      "|       -14.70649306|         -2.10092758|\n",
      "|       -14.70649306|         -2.10092758|\n",
      "|       -14.70636574| -2.1009093914285715|\n",
      "|          -14.70625|  -2.100892857142857|\n",
      "|       -14.70636574| -2.1009093914285715|\n",
      "|       -14.70623843| -2.1008912042857144|\n",
      "|-14.705891199999998|          -2.1008416|\n",
      "|       -14.70600694|  -2.100858134285714|\n",
      "|       -14.70576389|  -2.100823412857143|\n",
      "|       -14.70576389|  -2.100823412857143|\n",
      "|       -14.70564815| -2.1008068785714284|\n",
      "+-------------------+--------------------+\n",
      "only showing top 20 rows\n",
      "\n"
     ]
    }
   ],
   "source": [
    "# convert the number of days a case is late to a number of weeks\n",
    "\n",
    "df = df.withColumn('num_weeks_late', expr('num_days_late/7'))\n",
    "\n",
    "df.select(\"num_days_late\", \"num_weeks_late\").show()"
   ]
  },
  {
   "cell_type": "code",
   "execution_count": 58,
   "metadata": {},
   "outputs": [
    {
     "name": "stdout",
     "output_type": "stream",
     "text": [
      "+----------------+----------------+-------------+-------------------+\n",
      "|case_opened_date|case_closed_date|case_due_date|      num_days_late|\n",
      "+----------------+----------------+-------------+-------------------+\n",
      "|     1/1/18 0:42|    1/1/18 12:29| 9/26/20 0:42| -998.5087616000001|\n",
      "|     1/1/18 0:46|     1/3/18 8:11|  1/5/18 8:30|-2.0126041669999997|\n",
      "|     1/1/18 0:48|     1/2/18 7:57|  1/5/18 8:30|       -3.022337963|\n",
      "|     1/1/18 1:29|     1/2/18 8:13| 1/17/18 8:30|       -15.01148148|\n",
      "|     1/1/18 1:34|    1/1/18 13:29|  1/1/18 4:34|0.37216435200000003|\n",
      "|     1/1/18 6:28|    1/1/18 14:38| 1/31/18 8:30|       -29.74398148|\n",
      "|     1/1/18 6:57|    1/2/18 15:32| 1/17/18 8:30|       -14.70673611|\n",
      "|     1/1/18 6:58|    1/2/18 15:32| 1/17/18 8:30|       -14.70662037|\n",
      "|     1/1/18 6:58|    1/2/18 15:32| 1/17/18 8:30|       -14.70662037|\n",
      "|     1/1/18 6:59|    1/2/18 15:32| 1/17/18 8:30|       -14.70649306|\n",
      "|     1/1/18 7:00|    1/2/18 15:32| 1/17/18 8:30|       -14.70649306|\n",
      "|     1/1/18 7:02|    1/2/18 15:32| 1/17/18 8:30|       -14.70636574|\n",
      "|     1/1/18 7:02|    1/2/18 15:33| 1/17/18 8:30|          -14.70625|\n",
      "|     1/1/18 7:03|    1/2/18 15:32| 1/17/18 8:30|       -14.70636574|\n",
      "|     1/1/18 7:04|    1/2/18 15:33| 1/17/18 8:30|       -14.70623843|\n",
      "|     1/1/18 7:04|    1/2/18 15:33| 1/17/18 8:30|-14.705891199999998|\n",
      "|     1/1/18 7:05|    1/2/18 15:33| 1/17/18 8:30|       -14.70600694|\n",
      "|     1/1/18 7:06|    1/2/18 15:33| 1/17/18 8:30|       -14.70576389|\n",
      "|     1/1/18 7:06|    1/2/18 15:33| 1/17/18 8:30|       -14.70576389|\n",
      "|     1/1/18 7:07|    1/2/18 15:33| 1/17/18 8:30|       -14.70564815|\n",
      "+----------------+----------------+-------------+-------------------+\n",
      "only showing top 20 rows\n",
      "\n"
     ]
    }
   ],
   "source": [
    "df.select('case_opened_date', 'case_closed_date', 'case_due_date', 'num_days_late').show()"
   ]
  },
  {
   "cell_type": "markdown",
   "metadata": {},
   "source": [
    "# 2. How many Stray Animal cases are there?"
   ]
  },
  {
   "cell_type": "code",
   "execution_count": 54,
   "metadata": {},
   "outputs": [
    {
     "data": {
      "text/plain": [
       "['case_id',\n",
       " 'case_opened_date',\n",
       " 'case_closed_date',\n",
       " 'case_due_date',\n",
       " 'case_late',\n",
       " 'num_days_late',\n",
       " 'case_closed',\n",
       " 'dept_division',\n",
       " 'service_request_type',\n",
       " 'SLA_days',\n",
       " 'case_status',\n",
       " 'source_id',\n",
       " 'request_address',\n",
       " 'council_district',\n",
       " 'num_weeks_late']"
      ]
     },
     "execution_count": 54,
     "metadata": {},
     "output_type": "execute_result"
    }
   ],
   "source": [
    "df.columns"
   ]
  },
  {
   "cell_type": "code",
   "execution_count": 62,
   "metadata": {},
   "outputs": [
    {
     "name": "stdout",
     "output_type": "stream",
     "text": [
      "+----------------+----------------+-------------+--------------------+\n",
      "|case_opened_date|case_closed_date|case_due_date|service_request_type|\n",
      "+----------------+----------------+-------------+--------------------+\n",
      "|     1/1/18 0:42|    1/1/18 12:29| 9/26/20 0:42|        Stray Animal|\n",
      "|     1/1/18 0:46|     1/3/18 8:11|  1/5/18 8:30|Removal Of Obstru...|\n",
      "|     1/1/18 0:48|     1/2/18 7:57|  1/5/18 8:30|Removal Of Obstru...|\n",
      "|     1/1/18 1:29|     1/2/18 8:13| 1/17/18 8:30|Front Or Side Yar...|\n",
      "|     1/1/18 1:34|    1/1/18 13:29|  1/1/18 4:34|Animal Cruelty(Cr...|\n",
      "|     1/1/18 6:28|    1/1/18 14:38| 1/31/18 8:30|Traffic Signal Op...|\n",
      "|     1/1/18 6:57|    1/2/18 15:32| 1/17/18 8:30|Front Or Side Yar...|\n",
      "|     1/1/18 6:58|    1/2/18 15:32| 1/17/18 8:30|Front Or Side Yar...|\n",
      "|     1/1/18 6:58|    1/2/18 15:32| 1/17/18 8:30|Right Of Way/Side...|\n",
      "|     1/1/18 6:59|    1/2/18 15:32| 1/17/18 8:30|Front Or Side Yar...|\n",
      "|     1/1/18 7:00|    1/2/18 15:32| 1/17/18 8:30|Front Or Side Yar...|\n",
      "|     1/1/18 7:02|    1/2/18 15:32| 1/17/18 8:30|Right Of Way/Side...|\n",
      "|     1/1/18 7:02|    1/2/18 15:33| 1/17/18 8:30|Front Or Side Yar...|\n",
      "|     1/1/18 7:03|    1/2/18 15:32| 1/17/18 8:30|Front Or Side Yar...|\n",
      "|     1/1/18 7:04|    1/2/18 15:33| 1/17/18 8:30|Right Of Way/Side...|\n",
      "|     1/1/18 7:04|    1/2/18 15:33| 1/17/18 8:30|Front Or Side Yar...|\n",
      "|     1/1/18 7:05|    1/2/18 15:33| 1/17/18 8:30|Front Or Side Yar...|\n",
      "|     1/1/18 7:06|    1/2/18 15:33| 1/17/18 8:30|Right Of Way/Side...|\n",
      "|     1/1/18 7:06|    1/2/18 15:33| 1/17/18 8:30|Front Or Side Yar...|\n",
      "|     1/1/18 7:07|    1/2/18 15:33| 1/17/18 8:30|Front Or Side Yar...|\n",
      "+----------------+----------------+-------------+--------------------+\n",
      "only showing top 20 rows\n",
      "\n"
     ]
    }
   ],
   "source": [
    "# Looking at certain columns\n",
    "df.select('case_opened_date', 'case_closed_date', 'case_due_date',  'service_request_type').show()"
   ]
  },
  {
   "cell_type": "code",
   "execution_count": 91,
   "metadata": {},
   "outputs": [
    {
     "name": "stdout",
     "output_type": "stream",
     "text": [
      "+--------------------+---------------------------+\n",
      "|service_request_type|count(service_request_type)|\n",
      "+--------------------+---------------------------+\n",
      "|        Stray Animal|                      26760|\n",
      "+--------------------+---------------------------+\n",
      "\n"
     ]
    }
   ],
   "source": [
    "df.where(df[\"service_request_type\"] == \"Stray Animal\").groupby(df.service_request_type)\\\n",
    ".agg(count(lit('service_request_type'))).show()"
   ]
  },
  {
   "cell_type": "markdown",
   "metadata": {},
   "source": [
    "# 3. How many service requests that are assigned to the Field Operations department (dept_division) are not classified as \"Officer Standby\" request type (service_request_type)?"
   ]
  },
  {
   "cell_type": "code",
   "execution_count": 27,
   "metadata": {},
   "outputs": [
    {
     "data": {
      "text/plain": [
       "['case_id',\n",
       " 'case_opened_date',\n",
       " 'case_closed_date',\n",
       " 'SLA_due_date',\n",
       " 'case_late',\n",
       " 'num_days_late',\n",
       " 'case_closed',\n",
       " 'dept_division',\n",
       " 'service_request_type',\n",
       " 'SLA_days',\n",
       " 'case_status',\n",
       " 'source_id',\n",
       " 'request_address',\n",
       " 'council_district']"
      ]
     },
     "execution_count": 27,
     "metadata": {},
     "output_type": "execute_result"
    }
   ],
   "source": [
    "df.columns"
   ]
  },
  {
   "cell_type": "code",
   "execution_count": 50,
   "metadata": {},
   "outputs": [
    {
     "data": {
      "text/plain": [
       "841704"
      ]
     },
     "execution_count": 50,
     "metadata": {},
     "output_type": "execute_result"
    }
   ],
   "source": [
    "df[['dept_division','service_request_type']].count()"
   ]
  },
  {
   "cell_type": "code",
   "execution_count": 49,
   "metadata": {},
   "outputs": [
    {
     "data": {
      "text/plain": [
       "113902"
      ]
     },
     "execution_count": 49,
     "metadata": {},
     "output_type": "execute_result"
    }
   ],
   "source": [
    "df.filter(col('dept_division') == lit('Field Operations')).filter(col('service_request_type') != lit('Officer Standby')).count()"
   ]
  },
  {
   "cell_type": "markdown",
   "metadata": {},
   "source": [
    "# 4. Convert the council_district column to a string column."
   ]
  },
  {
   "cell_type": "code",
   "execution_count": 51,
   "metadata": {},
   "outputs": [],
   "source": [
    "# council_district as a string instead of int\n",
    "df = df.withColumn('council_district', col('council_district').cast('string'))"
   ]
  },
  {
   "cell_type": "code",
   "execution_count": 54,
   "metadata": {},
   "outputs": [
    {
     "data": {
      "text/plain": [
       "[('council_district', 'string')]"
      ]
     },
     "execution_count": 54,
     "metadata": {},
     "output_type": "execute_result"
    }
   ],
   "source": [
    "df[['council_district']].dtypes"
   ]
  },
  {
   "cell_type": "markdown",
   "metadata": {},
   "source": [
    "# 5. Extract the year from the case_closed_date column.\n"
   ]
  },
  {
   "cell_type": "code",
   "execution_count": 68,
   "metadata": {},
   "outputs": [
    {
     "data": {
      "text/plain": [
       "['case_id',\n",
       " 'case_opened_date',\n",
       " 'case_closed_date',\n",
       " 'SLA_due_date',\n",
       " 'case_late',\n",
       " 'num_days_late',\n",
       " 'case_closed',\n",
       " 'dept_division',\n",
       " 'service_request_type',\n",
       " 'SLA_days',\n",
       " 'case_status',\n",
       " 'source_id',\n",
       " 'request_address',\n",
       " 'council_district']"
      ]
     },
     "execution_count": 68,
     "metadata": {},
     "output_type": "execute_result"
    }
   ],
   "source": [
    "df.columns"
   ]
  },
  {
   "cell_type": "code",
   "execution_count": 69,
   "metadata": {},
   "outputs": [],
   "source": [
    "# to_timestamp, fmt\n",
    "\n",
    "fmt = \"M/d/yy H:mm\"\n",
    "\n",
    "df = df.withColumn('case_opened_date', to_timestamp('case_opened_date', fmt))\\\n",
    ".withColumn('case_closed_date', to_timestamp('case_closed_date', fmt))\\\n",
    ".withColumn('SLA_due_date', to_timestamp('SLA_due_date', fmt))"
   ]
  },
  {
   "cell_type": "code",
   "execution_count": 71,
   "metadata": {},
   "outputs": [
    {
     "name": "stdout",
     "output_type": "stream",
     "text": [
      "+-------------------+\n",
      "|   case_closed_date|\n",
      "+-------------------+\n",
      "|2018-01-01 12:29:00|\n",
      "|2018-01-03 08:11:00|\n",
      "|2018-01-02 07:57:00|\n",
      "|2018-01-02 08:13:00|\n",
      "|2018-01-01 13:29:00|\n",
      "|2018-01-01 14:38:00|\n",
      "|2018-01-02 15:32:00|\n",
      "|2018-01-02 15:32:00|\n",
      "|2018-01-02 15:32:00|\n",
      "|2018-01-02 15:32:00|\n",
      "|2018-01-02 15:32:00|\n",
      "|2018-01-02 15:32:00|\n",
      "|2018-01-02 15:33:00|\n",
      "|2018-01-02 15:32:00|\n",
      "|2018-01-02 15:33:00|\n",
      "|2018-01-02 15:33:00|\n",
      "|2018-01-02 15:33:00|\n",
      "|2018-01-02 15:33:00|\n",
      "|2018-01-02 15:33:00|\n",
      "|2018-01-02 15:33:00|\n",
      "+-------------------+\n",
      "only showing top 20 rows\n",
      "\n"
     ]
    }
   ],
   "source": [
    "#Looking at the case closed column\n",
    "df[['case_closed_date']].show()"
   ]
  },
  {
   "cell_type": "code",
   "execution_count": 117,
   "metadata": {},
   "outputs": [
    {
     "name": "stdout",
     "output_type": "stream",
     "text": [
      "-RECORD 0--------------------------------------\n",
      " case_id                | 1014127332           \n",
      " case_opened_date       | 2018-01-01 00:42:00  \n",
      " case_closed_date       | 2018-01-01 12:29:00  \n",
      " SLA_due_date           | 2020-09-26 00:42:00  \n",
      " case_late              | NO                   \n",
      " num_days_late          | -41.60453173333334   \n",
      " case_closed            | YES                  \n",
      " dept_division          | Field Operations     \n",
      " service_request_type   | Stray Animal         \n",
      " SLA_days               | 999.0                \n",
      " case_status            | Closed               \n",
      " source_id              | svcCRMLS             \n",
      " request_address        | 2315  EL PASO ST,... \n",
      " council_district       | 5                    \n",
      " dept_name              | Animal Care Services \n",
      " standardized_dept_name | Animal Care Services \n",
      " dept_subject_to_SLA    | YES                  \n",
      " source_username        | svcCRMLS             \n",
      " year                   | 2018                 \n",
      "-RECORD 1--------------------------------------\n",
      " case_id                | 1014127333           \n",
      " case_opened_date       | 2018-01-01 00:46:00  \n",
      " case_closed_date       | 2018-01-03 08:11:00  \n",
      " SLA_due_date           | 2018-01-05 08:30:00  \n",
      " case_late              | NO                   \n",
      " num_days_late          | -0.08385850695833331 \n",
      " case_closed            | YES                  \n",
      " dept_division          | Storm Water          \n",
      " service_request_type   | Removal Of Obstru... \n",
      " SLA_days               | 4.322222222          \n",
      " case_status            | Closed               \n",
      " source_id              | svcCRMSS             \n",
      " request_address        | 2215  GOLIAD RD, ... \n",
      " council_district       | 3                    \n",
      " dept_name              | Trans & Cap Impro... \n",
      " standardized_dept_name | Trans & Cap Impro... \n",
      " dept_subject_to_SLA    | YES                  \n",
      " source_username        | svcCRMSS             \n",
      " year                   | 2018                 \n",
      "-RECORD 2--------------------------------------\n",
      " case_id                | 1014127334           \n",
      " case_opened_date       | 2018-01-01 00:48:00  \n",
      " case_closed_date       | 2018-01-02 07:57:00  \n",
      " SLA_due_date           | 2018-01-05 08:30:00  \n",
      " case_late              | NO                   \n",
      " num_days_late          | -0.12593074845833332 \n",
      " case_closed            | YES                  \n",
      " dept_division          | Storm Water          \n",
      " service_request_type   | Removal Of Obstru... \n",
      " SLA_days               | 4.320729167          \n",
      " case_status            | Closed               \n",
      " source_id              | svcCRMSS             \n",
      " request_address        | 102  PALFREY ST W... \n",
      " council_district       | 3                    \n",
      " dept_name              | Trans & Cap Impro... \n",
      " standardized_dept_name | Trans & Cap Impro... \n",
      " dept_subject_to_SLA    | YES                  \n",
      " source_username        | svcCRMSS             \n",
      " year                   | 2018                 \n",
      "-RECORD 3--------------------------------------\n",
      " case_id                | 1014127335           \n",
      " case_opened_date       | 2018-01-01 01:29:00  \n",
      " case_closed_date       | 2018-01-02 08:13:00  \n",
      " SLA_due_date           | 2018-01-17 08:30:00  \n",
      " case_late              | NO                   \n",
      " num_days_late          | -0.625478395         \n",
      " case_closed            | YES                  \n",
      " dept_division          | Code Enforcement     \n",
      " service_request_type   | Front Or Side Yar... \n",
      " SLA_days               | 16.29188657          \n",
      " case_status            | Closed               \n",
      " source_id              | svcCRMSS             \n",
      " request_address        | 114  LA GARDE ST,... \n",
      " council_district       | 3                    \n",
      " dept_name              | Code Enforcement ... \n",
      " standardized_dept_name | DSD/Code Enforcement \n",
      " dept_subject_to_SLA    | YES                  \n",
      " source_username        | svcCRMSS             \n",
      " year                   | 2018                 \n",
      "-RECORD 4--------------------------------------\n",
      " case_id                | 1014127336           \n",
      " case_opened_date       | 2018-01-01 01:34:00  \n",
      " case_closed_date       | 2018-01-01 13:29:00  \n",
      " SLA_due_date           | 2018-01-01 04:34:00  \n",
      " case_late              | YES                  \n",
      " num_days_late          | 0.015506848000000002 \n",
      " case_closed            | YES                  \n",
      " dept_division          | Field Operations     \n",
      " service_request_type   | Animal Cruelty(Cr... \n",
      " SLA_days               | 0.125                \n",
      " case_status            | Closed               \n",
      " source_id              | svcCRMSS             \n",
      " request_address        | 734  CLEARVIEW DR... \n",
      " council_district       | 7                    \n",
      " dept_name              | Animal Care Services \n",
      " standardized_dept_name | Animal Care Services \n",
      " dept_subject_to_SLA    | YES                  \n",
      " source_username        | svcCRMSS             \n",
      " year                   | 2018                 \n",
      "-RECORD 5--------------------------------------\n",
      " case_id                | 1014127337           \n",
      " case_opened_date       | 2018-01-01 06:28:00  \n",
      " case_closed_date       | 2018-01-01 14:38:00  \n",
      " SLA_due_date           | 2018-01-31 08:30:00  \n",
      " case_late              | NO                   \n",
      " num_days_late          | -1.2393325616666666  \n",
      " case_closed            | YES                  \n",
      " dept_division          | Signals              \n",
      " service_request_type   | Traffic Signal Op... \n",
      " SLA_days               | 30.08446759          \n",
      " case_status            | Closed               \n",
      " source_id              | svcCRMSS             \n",
      " request_address        | BANDERA RD and BR... \n",
      " council_district       | 7                    \n",
      " dept_name              | Trans & Cap Impro... \n",
      " standardized_dept_name | Trans & Cap Impro... \n",
      " dept_subject_to_SLA    | YES                  \n",
      " source_username        | svcCRMSS             \n",
      " year                   | 2018                 \n",
      "-RECORD 6--------------------------------------\n",
      " case_id                | 1014127338           \n",
      " case_opened_date       | 2018-01-01 06:57:00  \n",
      " case_closed_date       | 2018-01-02 15:32:00  \n",
      " SLA_due_date           | 2018-01-17 08:30:00  \n",
      " case_late              | NO                   \n",
      " num_days_late          | -0.61278067125       \n",
      " case_closed            | YES                  \n",
      " dept_division          | Code Enforcement     \n",
      " service_request_type   | Front Or Side Yar... \n",
      " SLA_days               | 16.06429398          \n",
      " case_status            | Closed               \n",
      " source_id              | svcCRMSS             \n",
      " request_address        | 10133  FIGARO CAN... \n",
      " council_district       | 4                    \n",
      " dept_name              | Code Enforcement ... \n",
      " standardized_dept_name | DSD/Code Enforcement \n",
      " dept_subject_to_SLA    | YES                  \n",
      " source_username        | svcCRMSS             \n",
      " year                   | 2018                 \n",
      "-RECORD 7--------------------------------------\n",
      " case_id                | 1014127339           \n",
      " case_opened_date       | 2018-01-01 06:58:00  \n",
      " case_closed_date       | 2018-01-02 15:32:00  \n",
      " SLA_due_date           | 2018-01-17 08:30:00  \n",
      " case_late              | NO                   \n",
      " num_days_late          | -0.61277584875       \n",
      " case_closed            | YES                  \n",
      " dept_division          | Code Enforcement     \n",
      " service_request_type   | Front Or Side Yar... \n",
      " SLA_days               | 16.063796300000003   \n",
      " case_status            | Closed               \n",
      " source_id              | svcCRMSS             \n",
      " request_address        | 10133  FIGARO CAN... \n",
      " council_district       | 4                    \n",
      " dept_name              | Code Enforcement ... \n",
      " standardized_dept_name | DSD/Code Enforcement \n",
      " dept_subject_to_SLA    | YES                  \n",
      " source_username        | svcCRMSS             \n",
      " year                   | 2018                 \n",
      "-RECORD 8--------------------------------------\n",
      " case_id                | 1014127340           \n",
      " case_opened_date       | 2018-01-01 06:58:00  \n",
      " case_closed_date       | 2018-01-02 15:32:00  \n",
      " SLA_due_date           | 2018-01-17 08:30:00  \n",
      " case_late              | NO                   \n",
      " num_days_late          | -0.61277584875       \n",
      " case_closed            | YES                  \n",
      " dept_division          | Code Enforcement     \n",
      " service_request_type   | Right Of Way/Side... \n",
      " SLA_days               | 16.06333333          \n",
      " case_status            | Closed               \n",
      " source_id              | svcCRMSS             \n",
      " request_address        | 10133  FIGARO CAN... \n",
      " council_district       | 4                    \n",
      " dept_name              | Code Enforcement ... \n",
      " standardized_dept_name | DSD/Code Enforcement \n",
      " dept_subject_to_SLA    | YES                  \n",
      " source_username        | svcCRMSS             \n",
      " year                   | 2018                 \n",
      "-RECORD 9--------------------------------------\n",
      " case_id                | 1014127341           \n",
      " case_opened_date       | 2018-01-01 06:59:00  \n",
      " case_closed_date       | 2018-01-02 15:32:00  \n",
      " SLA_due_date           | 2018-01-17 08:30:00  \n",
      " case_late              | NO                   \n",
      " num_days_late          | -0.6127705441666667  \n",
      " case_closed            | YES                  \n",
      " dept_division          | Code Enforcement     \n",
      " service_request_type   | Front Or Side Yar... \n",
      " SLA_days               | 16.0628588           \n",
      " case_status            | Closed               \n",
      " source_id              | svcCRMSS             \n",
      " request_address        | 10133  FIGARO CAN... \n",
      " council_district       | 4                    \n",
      " dept_name              | Code Enforcement ... \n",
      " standardized_dept_name | DSD/Code Enforcement \n",
      " dept_subject_to_SLA    | YES                  \n",
      " source_username        | svcCRMSS             \n",
      " year                   | 2018                 \n",
      "-RECORD 10-------------------------------------\n",
      " case_id                | 1014127342           \n",
      " case_opened_date       | 2018-01-01 07:00:00  \n",
      " case_closed_date       | 2018-01-02 15:32:00  \n",
      " SLA_due_date           | 2018-01-17 08:30:00  \n",
      " case_late              | NO                   \n",
      " num_days_late          | -0.6127705441666667  \n",
      " case_closed            | YES                  \n",
      " dept_division          | Code Enforcement     \n",
      " service_request_type   | Front Or Side Yar... \n",
      " SLA_days               | 16.06237269          \n",
      " case_status            | Closed               \n",
      " source_id              | svcCRMSS             \n",
      " request_address        | 10133  FIGARO CAN... \n",
      " council_district       | 4                    \n",
      " dept_name              | Code Enforcement ... \n",
      " standardized_dept_name | DSD/Code Enforcement \n",
      " dept_subject_to_SLA    | YES                  \n",
      " source_username        | svcCRMSS             \n",
      " year                   | 2018                 \n",
      "-RECORD 11-------------------------------------\n",
      " case_id                | 1014127343           \n",
      " case_opened_date       | 2018-01-01 07:02:00  \n",
      " case_closed_date       | 2018-01-02 15:32:00  \n",
      " SLA_due_date           | 2018-01-17 08:30:00  \n",
      " case_late              | NO                   \n",
      " num_days_late          | -0.6127652391666667  \n",
      " case_closed            | YES                  \n",
      " dept_division          | Code Enforcement     \n",
      " service_request_type   | Right Of Way/Side... \n",
      " SLA_days               | 16.06104167          \n",
      " case_status            | Closed               \n",
      " source_id              | svcCRMSS             \n",
      " request_address        | 10133  FIGARO CAN... \n",
      " council_district       | 4                    \n",
      " dept_name              | Code Enforcement ... \n",
      " standardized_dept_name | DSD/Code Enforcement \n",
      " dept_subject_to_SLA    | YES                  \n",
      " source_username        | svcCRMSS             \n",
      " year                   | 2018                 \n",
      "-RECORD 12-------------------------------------\n",
      " case_id                | 1014127344           \n",
      " case_opened_date       | 2018-01-01 07:02:00  \n",
      " case_closed_date       | 2018-01-02 15:33:00  \n",
      " SLA_due_date           | 2018-01-17 08:30:00  \n",
      " case_late              | NO                   \n",
      " num_days_late          | -0.6127604166666667  \n",
      " case_closed            | YES                  \n",
      " dept_division          | Code Enforcement     \n",
      " service_request_type   | Front Or Side Yar... \n",
      " SLA_days               | 16.06059028          \n",
      " case_status            | Closed               \n",
      " source_id              | svcCRMSS             \n",
      " request_address        | 10129  BOXING PAS... \n",
      " council_district       | 4                    \n",
      " dept_name              | Code Enforcement ... \n",
      " standardized_dept_name | DSD/Code Enforcement \n",
      " dept_subject_to_SLA    | YES                  \n",
      " source_username        | svcCRMSS             \n",
      " year                   | 2018                 \n",
      "-RECORD 13-------------------------------------\n",
      " case_id                | 1014127345           \n",
      " case_opened_date       | 2018-01-01 07:03:00  \n",
      " case_closed_date       | 2018-01-02 15:32:00  \n",
      " SLA_due_date           | 2018-01-17 08:30:00  \n",
      " case_late              | NO                   \n",
      " num_days_late          | -0.6127652391666667  \n",
      " case_closed            | YES                  \n",
      " dept_division          | Code Enforcement     \n",
      " service_request_type   | Front Or Side Yar... \n",
      " SLA_days               | 16.06011574          \n",
      " case_status            | Closed               \n",
      " source_id              | svcCRMSS             \n",
      " request_address        | 10129  BOXING PAS... \n",
      " council_district       | 4                    \n",
      " dept_name              | Code Enforcement ... \n",
      " standardized_dept_name | DSD/Code Enforcement \n",
      " dept_subject_to_SLA    | YES                  \n",
      " source_username        | svcCRMSS             \n",
      " year                   | 2018                 \n",
      "-RECORD 14-------------------------------------\n",
      " case_id                | 1014127346           \n",
      " case_opened_date       | 2018-01-01 07:04:00  \n",
      " case_closed_date       | 2018-01-02 15:33:00  \n",
      " SLA_due_date           | 2018-01-17 08:30:00  \n",
      " case_late              | NO                   \n",
      " num_days_late          | -0.6127599345833333  \n",
      " case_closed            | YES                  \n",
      " dept_division          | Code Enforcement     \n",
      " service_request_type   | Right Of Way/Side... \n",
      " SLA_days               | 16.05953704          \n",
      " case_status            | Closed               \n",
      " source_id              | svcCRMSS             \n",
      " request_address        | 10129  BOXING PAS... \n",
      " council_district       | 4                    \n",
      " dept_name              | Code Enforcement ... \n",
      " standardized_dept_name | DSD/Code Enforcement \n",
      " dept_subject_to_SLA    | YES                  \n",
      " source_username        | svcCRMSS             \n",
      " year                   | 2018                 \n",
      "-RECORD 15-------------------------------------\n",
      " case_id                | 1014127347           \n",
      " case_opened_date       | 2018-01-01 07:04:00  \n",
      " case_closed_date       | 2018-01-02 15:33:00  \n",
      " SLA_due_date           | 2018-01-17 08:30:00  \n",
      " case_late              | NO                   \n",
      " num_days_late          | -0.6127454666666666  \n",
      " case_closed            | YES                  \n",
      " dept_division          | Code Enforcement     \n",
      " service_request_type   | Front Or Side Yar... \n",
      " SLA_days               | 16.05907407          \n",
      " case_status            | Closed               \n",
      " source_id              | svcCRMSS             \n",
      " request_address        | 834  BARREL POINT... \n",
      " council_district       | 4                    \n",
      " dept_name              | Code Enforcement ... \n",
      " standardized_dept_name | DSD/Code Enforcement \n",
      " dept_subject_to_SLA    | YES                  \n",
      " source_username        | svcCRMSS             \n",
      " year                   | 2018                 \n",
      "-RECORD 16-------------------------------------\n",
      " case_id                | 1014127348           \n",
      " case_opened_date       | 2018-01-01 07:05:00  \n",
      " case_closed_date       | 2018-01-02 15:33:00  \n",
      " SLA_due_date           | 2018-01-17 08:30:00  \n",
      " case_late              | NO                   \n",
      " num_days_late          | -0.6127502891666666  \n",
      " case_closed            | YES                  \n",
      " dept_division          | Code Enforcement     \n",
      " service_request_type   | Front Or Side Yar... \n",
      " SLA_days               | 16.05864583          \n",
      " case_status            | Closed               \n",
      " source_id              | svcCRMSS             \n",
      " request_address        | 834  BARREL POINT... \n",
      " council_district       | 4                    \n",
      " dept_name              | Code Enforcement ... \n",
      " standardized_dept_name | DSD/Code Enforcement \n",
      " dept_subject_to_SLA    | YES                  \n",
      " source_username        | svcCRMSS             \n",
      " year                   | 2018                 \n",
      "-RECORD 17-------------------------------------\n",
      " case_id                | 1014127349           \n",
      " case_opened_date       | 2018-01-01 07:06:00  \n",
      " case_closed_date       | 2018-01-02 15:33:00  \n",
      " SLA_due_date           | 2018-01-17 08:30:00  \n",
      " case_late              | NO                   \n",
      " num_days_late          | -0.6127401620833334  \n",
      " case_closed            | YES                  \n",
      " dept_division          | Code Enforcement     \n",
      " service_request_type   | Right Of Way/Side... \n",
      " SLA_days               | 16.05819444          \n",
      " case_status            | Closed               \n",
      " source_id              | svcCRMSS             \n",
      " request_address        | 834  BARREL POINT... \n",
      " council_district       | 4                    \n",
      " dept_name              | Code Enforcement ... \n",
      " standardized_dept_name | DSD/Code Enforcement \n",
      " dept_subject_to_SLA    | YES                  \n",
      " source_username        | svcCRMSS             \n",
      " year                   | 2018                 \n",
      "-RECORD 18-------------------------------------\n",
      " case_id                | 1014127350           \n",
      " case_opened_date       | 2018-01-01 07:06:00  \n",
      " case_closed_date       | 2018-01-02 15:33:00  \n",
      " SLA_due_date           | 2018-01-17 08:30:00  \n",
      " case_late              | NO                   \n",
      " num_days_late          | -0.6127401620833334  \n",
      " case_closed            | YES                  \n",
      " dept_division          | Code Enforcement     \n",
      " service_request_type   | Front Or Side Yar... \n",
      " SLA_days               | 16.05775463          \n",
      " case_status            | Closed               \n",
      " source_id              | svcCRMSS             \n",
      " request_address        | 834  BARREL POINT... \n",
      " council_district       | 4                    \n",
      " dept_name              | Code Enforcement ... \n",
      " standardized_dept_name | DSD/Code Enforcement \n",
      " dept_subject_to_SLA    | YES                  \n",
      " source_username        | svcCRMSS             \n",
      " year                   | 2018                 \n",
      "-RECORD 19-------------------------------------\n",
      " case_id                | 1014127351           \n",
      " case_opened_date       | 2018-01-01 07:07:00  \n",
      " case_closed_date       | 2018-01-02 15:33:00  \n",
      " SLA_due_date           | 2018-01-17 08:30:00  \n",
      " case_late              | NO                   \n",
      " num_days_late          | -0.6127353395833334  \n",
      " case_closed            | YES                  \n",
      " dept_division          | Code Enforcement     \n",
      " service_request_type   | Front Or Side Yar... \n",
      " SLA_days               | 16.05733796          \n",
      " case_status            | Closed               \n",
      " source_id              | svcCRMSS             \n",
      " request_address        | 834  BARREL POINT... \n",
      " council_district       | 4                    \n",
      " dept_name              | Code Enforcement ... \n",
      " standardized_dept_name | DSD/Code Enforcement \n",
      " dept_subject_to_SLA    | YES                  \n",
      " source_username        | svcCRMSS             \n",
      " year                   | 2018                 \n",
      "only showing top 20 rows\n",
      "\n"
     ]
    }
   ],
   "source": [
    "df.withColumn('year', year('case_closed_date')).show(vertical= True)"
   ]
  },
  {
   "cell_type": "markdown",
   "metadata": {},
   "source": [
    "# 6. Convert num_days_late from days to hours in new columns num_hours_late.\n"
   ]
  },
  {
   "cell_type": "code",
   "execution_count": 75,
   "metadata": {},
   "outputs": [
    {
     "name": "stdout",
     "output_type": "stream",
     "text": [
      "+--------------------+\n",
      "|       num_days_late|\n",
      "+--------------------+\n",
      "|  -41.60453173333334|\n",
      "|-0.08385850695833331|\n",
      "|-0.12593074845833332|\n",
      "|        -0.625478395|\n",
      "|0.015506848000000002|\n",
      "+--------------------+\n",
      "only showing top 5 rows\n",
      "\n"
     ]
    }
   ],
   "source": [
    "# Convert num_days_late from days to hours in new columns num_hours_late.\n",
    "\n",
    "df = df.withColumn('num_days_late', expr('num_days_late/24'))\n",
    "\n",
    "df.select(\"num_days_late\").show(5)"
   ]
  },
  {
   "cell_type": "markdown",
   "metadata": {},
   "source": [
    "# 7. Join the case data with the source and department data.\n"
   ]
  },
  {
   "cell_type": "code",
   "execution_count": 77,
   "metadata": {},
   "outputs": [],
   "source": [
    "dept= spark.read.csv(\"dept.csv\", header=True, inferSchema=True)"
   ]
  },
  {
   "cell_type": "code",
   "execution_count": 80,
   "metadata": {},
   "outputs": [],
   "source": [
    "df = df.join(dept, on=dept.dept_division == df.dept_division).drop(dept.dept_division)\n",
    "df = df.join(source, on = df.source_id== source.source_id).drop(source.source_id)"
   ]
  },
  {
   "cell_type": "markdown",
   "metadata": {},
   "source": [
    "# 8. Are there any cases that do not have a request source?"
   ]
  },
  {
   "cell_type": "markdown",
   "metadata": {},
   "source": [
    "There is none\n"
   ]
  },
  {
   "cell_type": "code",
   "execution_count": 119,
   "metadata": {},
   "outputs": [
    {
     "name": "stdout",
     "output_type": "stream",
     "text": [
      "(0 rows)\n",
      "\n"
     ]
    }
   ],
   "source": [
    "df.filter(col('source_id') == lit('Null')).show(vertical= True)"
   ]
  },
  {
   "cell_type": "markdown",
   "metadata": {},
   "source": [
    "# 9. What are the top 10 service request types in terms of number of requests?\n",
    "\n"
   ]
  },
  {
   "cell_type": "code",
   "execution_count": 84,
   "metadata": {},
   "outputs": [
    {
     "data": {
      "text/plain": [
       "['case_id',\n",
       " 'case_opened_date',\n",
       " 'case_closed_date',\n",
       " 'SLA_due_date',\n",
       " 'case_late',\n",
       " 'num_days_late',\n",
       " 'case_closed',\n",
       " 'dept_division',\n",
       " 'service_request_type',\n",
       " 'SLA_days',\n",
       " 'case_status',\n",
       " 'source_id',\n",
       " 'request_address',\n",
       " 'council_district',\n",
       " 'dept_name',\n",
       " 'standardized_dept_name',\n",
       " 'dept_subject_to_SLA',\n",
       " 'source_username']"
      ]
     },
     "execution_count": 84,
     "metadata": {},
     "output_type": "execute_result"
    }
   ],
   "source": [
    "df.columns"
   ]
  },
  {
   "cell_type": "code",
   "execution_count": 104,
   "metadata": {},
   "outputs": [
    {
     "name": "stdout",
     "output_type": "stream",
     "text": [
      "+--------------------------------+-----+\n",
      "|service_request_type            |count|\n",
      "+--------------------------------+-----+\n",
      "|No Pickup                       |89210|\n",
      "|Overgrown Yard/Trash            |66403|\n",
      "|Bandit Signs                    |32968|\n",
      "|Damaged Cart                    |31163|\n",
      "|Front Or Side Yard Parking      |28920|\n",
      "|Stray Animal                    |27361|\n",
      "|Aggressive Animal(Non-Critical) |25492|\n",
      "|Cart Exchange Request           |22608|\n",
      "|Junk Vehicle On Private Property|21649|\n",
      "|Pot Hole Repair                 |20827|\n",
      "+--------------------------------+-----+\n",
      "only showing top 10 rows\n",
      "\n"
     ]
    }
   ],
   "source": [
    "df[['service_request_type']].groupby('service_request_type').count().sort(desc('count')).show(10, truncate= False)"
   ]
  },
  {
   "cell_type": "markdown",
   "metadata": {},
   "source": [
    "# 10. What are the top 10 service request types in terms of average days late?\n"
   ]
  },
  {
   "cell_type": "code",
   "execution_count": 110,
   "metadata": {},
   "outputs": [
    {
     "name": "stdout",
     "output_type": "stream",
     "text": [
      "+--------------------------------------+------------------+\n",
      "|service_request_type                  |avg days late     |\n",
      "+--------------------------------------+------------------+\n",
      "|Zoning: Junk Yards                    |7.331515087675396 |\n",
      "|Labeling for Used Mattress            |6.767930375952381 |\n",
      "|Record Keeping of Used Mattresses     |6.416551683095237 |\n",
      "|Signage Requied for Sale of Used Mattr|6.3182783563888885|\n",
      "|Storage of Used Mattress              |5.921356517291668 |\n",
      "|Zoning: Recycle Yard                  |5.663688171866582 |\n",
      "|Donation Container Enforcement        |5.489837710982796 |\n",
      "|License Requied Used Mattress Sales   |5.366595293392857 |\n",
      "|Traffic Signal Graffiti               |4.241602525916667 |\n",
      "|Complaint                             |3.036270929296539 |\n",
      "+--------------------------------------+------------------+\n",
      "only showing top 10 rows\n",
      "\n"
     ]
    }
   ],
   "source": [
    "df.groupby('service_request_type').agg(mean('num_days_late').alias('avg days late')).sort(desc('avg days late')).show(10, truncate= False)"
   ]
  },
  {
   "cell_type": "markdown",
   "metadata": {},
   "source": [
    "# 11. Does number of days late depend on department?\n",
    "\n"
   ]
  },
  {
   "cell_type": "code",
   "execution_count": 112,
   "metadata": {},
   "outputs": [
    {
     "name": "stdout",
     "output_type": "stream",
     "text": [
      "+--------------------+--------------------+\n",
      "|       dept_division|  avg(num_days_late)|\n",
      "+--------------------+--------------------+\n",
      "|Code Enforcement ...|   5.663688171866582|\n",
      "|        Reservations|       2.75129846625|\n",
      "|     311 Call Center|  2.4890454790125323|\n",
      "|Director's Office...|  1.5654436126229208|\n",
      "|Engineering Division|  0.5597385231612378|\n",
      "|               Shops|  0.4017192403634455|\n",
      "|           Tree Crew| 0.19680345050272494|\n",
      "|         Solid Waste| 0.14662599666150938|\n",
      "|              Trades|  0.1346657142198722|\n",
      "|Clean and Green N...| 0.07047787164532521|\n",
      "|              Vector|-0.04669388747176437|\n",
      "|    Facility License|-0.05886224042590...|\n",
      "|       Miscellaneous|-0.07174407016219451|\n",
      "|    Waste Collection|-0.09044384326999555|\n",
      "|     Clean and Green| -0.1065481241355893|\n",
      "|               Brush|-0.16607460714404573|\n",
      "| Food Establishments|-0.29048134876881365|\n",
      "|  Signs and Markings| -0.3103595000565716|\n",
      "|    Shops (Internal)|-0.34109446332818555|\n",
      "|         Storm Water| -0.5856532665429961|\n",
      "+--------------------+--------------------+\n",
      "only showing top 20 rows\n",
      "\n"
     ]
    }
   ],
   "source": [
    "df.groupby('dept_division').agg(mean(col('num_days_late'))).sort(desc('avg(num_days_late)')).show(20)"
   ]
  },
  {
   "cell_type": "markdown",
   "metadata": {},
   "source": [
    "# 12. How do number of days late depend on department and request type?"
   ]
  },
  {
   "cell_type": "code",
   "execution_count": 113,
   "metadata": {},
   "outputs": [
    {
     "data": {
      "text/plain": [
       "['case_id',\n",
       " 'case_opened_date',\n",
       " 'case_closed_date',\n",
       " 'SLA_due_date',\n",
       " 'case_late',\n",
       " 'num_days_late',\n",
       " 'case_closed',\n",
       " 'dept_division',\n",
       " 'service_request_type',\n",
       " 'SLA_days',\n",
       " 'case_status',\n",
       " 'source_id',\n",
       " 'request_address',\n",
       " 'council_district',\n",
       " 'dept_name',\n",
       " 'standardized_dept_name',\n",
       " 'dept_subject_to_SLA',\n",
       " 'source_username']"
      ]
     },
     "execution_count": 113,
     "metadata": {},
     "output_type": "execute_result"
    }
   ],
   "source": [
    "df.columns"
   ]
  },
  {
   "cell_type": "code",
   "execution_count": 114,
   "metadata": {},
   "outputs": [
    {
     "name": "stdout",
     "output_type": "stream",
     "text": [
      "+--------------------+--------------------+------------------+\n",
      "|       dept_division|service_request_type|avg(num_days_late)|\n",
      "+--------------------+--------------------+------------------+\n",
      "|    Code Enforcement|  Zoning: Junk Yards| 7.331515087675396|\n",
      "|Code Enforcement ...|Labeling for Used...| 6.767930375952381|\n",
      "|Code Enforcement ...|Record Keeping of...| 6.416551683095237|\n",
      "|Code Enforcement ...|Signage Requied f...|6.3182783563888885|\n",
      "|Code Enforcement ...|Storage of Used M...| 5.921356517291668|\n",
      "|Code Enforcement ...|Zoning: Recycle Yard| 5.663688171866582|\n",
      "|    Code Enforcement|Donation Containe...| 5.489837710982796|\n",
      "|Code Enforcement ...|License Requied U...| 5.366595293392857|\n",
      "|             Signals|Traffic Signal Gr...| 4.241602525916667|\n",
      "|Code Enforcement ...|Used Mattress Ins...| 3.872320857014705|\n",
      "|Code Enforcement ...|        Bandit Signs|3.6507350501333335|\n",
      "|     311 Call Center|           Complaint| 3.036270929296539|\n",
      "|    Code Enforcement|             Vendors| 2.772837457711583|\n",
      "|        Reservations|Reservation Assis...|     2.75129846625|\n",
      "|    Waste Collection|Contracted Servic...|2.5935605230958334|\n",
      "|    Code Enforcement|   No Address Posted|2.4948183639010804|\n",
      "|    Code Enforcement|         Curbstoning|2.4920262074002193|\n",
      "|Director's Office...|Status: On-Going ...|1.5654436126229208|\n",
      "|Code Enforcement ...|Historical Buildi...|1.3152978568939393|\n",
      "|    Waste Collection| Service Information|1.2157231562106199|\n",
      "+--------------------+--------------------+------------------+\n",
      "only showing top 20 rows\n",
      "\n"
     ]
    }
   ],
   "source": [
    "df.groupby('dept_division', 'service_request_type').agg(mean(col('num_days_late'))).sort(desc('avg(num_days_late)')).show(20)"
   ]
  },
  {
   "cell_type": "code",
   "execution_count": null,
   "metadata": {},
   "outputs": [],
   "source": []
  }
 ],
 "metadata": {
  "kernelspec": {
   "display_name": "Python 3",
   "language": "python",
   "name": "python3"
  },
  "language_info": {
   "codemirror_mode": {
    "name": "ipython",
    "version": 3
   },
   "file_extension": ".py",
   "mimetype": "text/x-python",
   "name": "python",
   "nbconvert_exporter": "python",
   "pygments_lexer": "ipython3",
   "version": "3.8.5"
  }
 },
 "nbformat": 4,
 "nbformat_minor": 4
}
