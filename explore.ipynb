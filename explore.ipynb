{
 "cells": [
  {
   "cell_type": "markdown",
   "metadata": {},
   "source": [
    "# Exercises\n",
    "- These exercises should go in a notebook or script named explore.\n",
    "\n",
    "- Answer the questions below by using a combination of the techniques discussed in the lesson that you think is appropriate.\n",
    "\n",
    "    - How many different cases are there, by department?\n",
    "    - Does the percentage of cases that are late vary by department?\n",
    "    - On average, how late are the late cases by department?\n",
    "    - What is the service type that is the most late? Just for Parks & Rec?\n",
    "    - For the DSD/Code Enforcement department, what are the most common service request types? Look at other departments too.\n",
    "    - Does whether or not its a weekend matter for when a case is opened/closed?\n",
    "    - On average, how many cases are opened a day for the Customer Service department?\n",
    "    - Does the number of service requests for the solid waste department vary by day of the week?"
   ]
  },
  {
   "cell_type": "code",
   "execution_count": null,
   "metadata": {},
   "outputs": [],
   "source": []
  }
 ],
 "metadata": {
  "kernelspec": {
   "display_name": "Python 3",
   "language": "python",
   "name": "python3"
  },
  "language_info": {
   "codemirror_mode": {
    "name": "ipython",
    "version": 3
   },
   "file_extension": ".py",
   "mimetype": "text/x-python",
   "name": "python",
   "nbconvert_exporter": "python",
   "pygments_lexer": "ipython3",
   "version": "3.8.5"
  }
 },
 "nbformat": 4,
 "nbformat_minor": 4
}
