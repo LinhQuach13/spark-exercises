{
 "cells": [
  {
   "cell_type": "markdown",
   "metadata": {},
   "source": [
    "# Exercises\n",
    "- These exercises should go in a notebook or script named explore.\n",
    "\n",
    "- Answer the questions below by using a combination of the techniques discussed in the lesson that you think is appropriate.\n",
    "\n",
    "    - How many different cases are there, by department?\n",
    "    - Does the percentage of cases that are late vary by department?\n",
    "    - On average, how late are the late cases by department?\n",
    "    - What is the service type that is the most late? Just for Parks & Rec?\n",
    "    - For the DSD/Code Enforcement department, what are the most common service request types? Look at other departments too.\n",
    "    - Does whether or not its a weekend matter for when a case is opened/closed?\n",
    "    - On average, how many cases are opened a day for the Customer Service department?\n",
    "    - Does the number of service requests for the solid waste department vary by day of the week?"
   ]
  },
  {
   "cell_type": "code",
   "execution_count": 1,
   "metadata": {},
   "outputs": [],
   "source": [
    "import warnings\n",
    "\n",
    "warnings.filterwarnings(\"ignore\")\n",
    "\n",
    "import pyspark.sql\n",
    "from pyspark.sql.functions import *\n",
    "\n",
    "import numpy as np\n",
    "import pandas as pd\n",
    "\n",
    "%matplotlib inline\n",
    "import matplotlib.pyplot as plt\n",
    "import seaborn as sns\n",
    "import matplotlib as mpl\n",
    "import wrangle"
   ]
  },
  {
   "cell_type": "code",
   "execution_count": 2,
   "metadata": {},
   "outputs": [],
   "source": [
    "# Create a spark a session\n",
    "spark = pyspark.sql.SparkSession.builder.getOrCreate()"
   ]
  },
  {
   "cell_type": "markdown",
   "metadata": {},
   "source": [
    "# 1. How many different cases are there, by department?"
   ]
  },
  {
   "cell_type": "code",
   "execution_count": 3,
   "metadata": {},
   "outputs": [],
   "source": [
    "#acquire\n",
    "df = wrangle.wrangle_311()"
   ]
  },
  {
   "cell_type": "code",
   "execution_count": 4,
   "metadata": {
    "collapsed": true,
    "jupyter": {
     "outputs_hidden": true
    }
   },
   "outputs": [
    {
     "name": "stdout",
     "output_type": "stream",
     "text": [
      "-RECORD 0------------------------------------\n",
      " case_id              | 1014127332           \n",
      " case_opened_date     | 2018-01-01 00:42:00  \n",
      " case_closed_date     | 2018-01-01 12:29:00  \n",
      " case_due_date        | 2020-09-26 00:42:00  \n",
      " case_late            | false                \n",
      " num_days_late        | -998.5087616000001   \n",
      " case_closed          | true                 \n",
      " service_request_type | Stray Animal         \n",
      " SLA_days             | 999.0                \n",
      " case_status          | Closed               \n",
      " source_id            | svcCRMLS             \n",
      " request_address      | 2315  el paso st,... \n",
      " council_district     | 005                  \n",
      " num_weeks_late       | -142.6441088         \n",
      " zipcode              | 78207                \n",
      " case_age             | 1317                 \n",
      " days_to_closed       | 0                    \n",
      " case_lifetime        | 0                    \n",
      " department           | Animal Care Services \n",
      " dept_subject_to_SLA  | true                 \n",
      "-RECORD 1------------------------------------\n",
      " case_id              | 1014127333           \n",
      " case_opened_date     | 2018-01-01 00:46:00  \n",
      " case_closed_date     | 2018-01-03 08:11:00  \n",
      " case_due_date        | 2018-01-05 08:30:00  \n",
      " case_late            | false                \n",
      " num_days_late        | -2.0126041669999997  \n",
      " case_closed          | true                 \n",
      " service_request_type | Removal Of Obstru... \n",
      " SLA_days             | 4.322222222          \n",
      " case_status          | Closed               \n",
      " source_id            | svcCRMSS             \n",
      " request_address      | 2215  goliad rd, ... \n",
      " council_district     | 003                  \n",
      " num_weeks_late       | -0.28751488099999994 \n",
      " zipcode              | 78223                \n",
      " case_age             | 1317                 \n",
      " days_to_closed       | 2                    \n",
      " case_lifetime        | 2                    \n",
      " department           | Trans & Cap Impro... \n",
      " dept_subject_to_SLA  | true                 \n",
      "-RECORD 2------------------------------------\n",
      " case_id              | 1014127334           \n",
      " case_opened_date     | 2018-01-01 00:48:00  \n",
      " case_closed_date     | 2018-01-02 07:57:00  \n",
      " case_due_date        | 2018-01-05 08:30:00  \n",
      " case_late            | false                \n",
      " num_days_late        | -3.022337963         \n",
      " case_closed          | true                 \n",
      " service_request_type | Removal Of Obstru... \n",
      " SLA_days             | 4.320729167          \n",
      " case_status          | Closed               \n",
      " source_id            | svcCRMSS             \n",
      " request_address      | 102  palfrey st w... \n",
      " council_district     | 003                  \n",
      " num_weeks_late       | -0.43176256614285713 \n",
      " zipcode              | 78223                \n",
      " case_age             | 1317                 \n",
      " days_to_closed       | 1                    \n",
      " case_lifetime        | 1                    \n",
      " department           | Trans & Cap Impro... \n",
      " dept_subject_to_SLA  | true                 \n",
      "-RECORD 3------------------------------------\n",
      " case_id              | 1014127335           \n",
      " case_opened_date     | 2018-01-01 01:29:00  \n",
      " case_closed_date     | 2018-01-02 08:13:00  \n",
      " case_due_date        | 2018-01-17 08:30:00  \n",
      " case_late            | false                \n",
      " num_days_late        | -15.01148148         \n",
      " case_closed          | true                 \n",
      " service_request_type | Front Or Side Yar... \n",
      " SLA_days             | 16.29188657          \n",
      " case_status          | Closed               \n",
      " source_id            | svcCRMSS             \n",
      " request_address      | 114  la garde st,... \n",
      " council_district     | 003                  \n",
      " num_weeks_late       | -2.1444973542857144  \n",
      " zipcode              | 78223                \n",
      " case_age             | 1317                 \n",
      " days_to_closed       | 1                    \n",
      " case_lifetime        | 1                    \n",
      " department           | DSD/Code Enforcement \n",
      " dept_subject_to_SLA  | true                 \n",
      "-RECORD 4------------------------------------\n",
      " case_id              | 1014127336           \n",
      " case_opened_date     | 2018-01-01 01:34:00  \n",
      " case_closed_date     | 2018-01-01 13:29:00  \n",
      " case_due_date        | 2018-01-01 04:34:00  \n",
      " case_late            | true                 \n",
      " num_days_late        | 0.37216435200000003  \n",
      " case_closed          | true                 \n",
      " service_request_type | Animal Cruelty(Cr... \n",
      " SLA_days             | 0.125                \n",
      " case_status          | Closed               \n",
      " source_id            | svcCRMSS             \n",
      " request_address      | 734  clearview dr... \n",
      " council_district     | 007                  \n",
      " num_weeks_late       | 0.053166336          \n",
      " zipcode              | 78228                \n",
      " case_age             | 1317                 \n",
      " days_to_closed       | 0                    \n",
      " case_lifetime        | 0                    \n",
      " department           | Animal Care Services \n",
      " dept_subject_to_SLA  | true                 \n",
      "only showing top 5 rows\n",
      "\n"
     ]
    }
   ],
   "source": [
    "#Looking at first 5 values\n",
    "df.show(5, vertical=True)"
   ]
  },
  {
   "cell_type": "code",
   "execution_count": 5,
   "metadata": {},
   "outputs": [
    {
     "name": "stdout",
     "output_type": "stream",
     "text": [
      "+--------------------+------+\n",
      "|          department| count|\n",
      "+--------------------+------+\n",
      "|         Solid Waste|279270|\n",
      "|Animal Care Services|116915|\n",
      "|Trans & Cap Impro...| 96193|\n",
      "|  Parks & Recreation| 19907|\n",
      "|    Customer Service|  2849|\n",
      "|        Metro Health|  5163|\n",
      "|        City Council|    33|\n",
      "|DSD/Code Enforcement|321374|\n",
      "+--------------------+------+\n",
      "\n"
     ]
    }
   ],
   "source": [
    "#Get groupby department count\n",
    "df.groupby(\"department\").count().show()"
   ]
  },
  {
   "cell_type": "code",
   "execution_count": 6,
   "metadata": {},
   "outputs": [],
   "source": [
    "#List of colors\n",
    "color_list= ['lightcoral', 'turquoise', 'turquoise', 'turquoise', 'turquoise', 'turquoise', 'turquoise', 'turquoise']"
   ]
  },
  {
   "cell_type": "code",
   "execution_count": 8,
   "metadata": {},
   "outputs": [
    {
     "data": {
      "text/plain": [
       "Text(0.5, 0, 'Number of Cases')"
      ]
     },
     "execution_count": 8,
     "metadata": {},
     "output_type": "execute_result"
    },
    {
     "data": {
      "image/png": "[encoded data removed]",
      "text/plain": [
       "<Figure size 1008x360 with 1 Axes>"
      ]
     },
     "metadata": {
      "needs_background": "light"
     },
     "output_type": "display_data"
    }
   ],
   "source": [
    "# First aggregate with spark\n",
    "(\n",
    "# group by    \n",
    "    df.groupBy(\"department\")\n",
    "# aggregate by count    \n",
    "    .count()\n",
    "# then pass to pandas\n",
    "    .toPandas()\n",
    "# once its a dataframe, pass department as our index\n",
    "    .set_index(\"department\")[\"count\"]\n",
    "# sort our values for cleanliness of visualization\n",
    "    .sort_values(ascending=False)\n",
    "# pass our Series (department count values) to matplotlib\n",
    "    .plot.barh(width=1, edgecolor=\"black\", figsize=(14, 5), color= color_list)\n",
    ")\n",
    "\n",
    "plt.title(\"Number of Cases By Department\")\n",
    "plt.ylabel(\" \")\n",
    "plt.xlabel(\"Number of Cases\")"
   ]
  },
  {
   "cell_type": "code",
   "execution_count": 54,
   "metadata": {},
   "outputs": [
    {
     "name": "stdout",
     "output_type": "stream",
     "text": [
      "+--------------------+------+\n",
      "|          department| count|\n",
      "+--------------------+------+\n",
      "|         Solid Waste|279270|\n",
      "|Animal Care Services|116915|\n",
      "|Trans & Cap Impro...| 96193|\n",
      "|  Parks & Recreation| 19907|\n",
      "|    Customer Service|  2849|\n",
      "|        Metro Health|  5163|\n",
      "|        City Council|    33|\n",
      "|DSD/Code Enforcement|321374|\n",
      "+--------------------+------+\n",
      "\n"
     ]
    }
   ],
   "source": [
    "## Answer:\n",
    "df.groupby(\"department\").count().show()"
   ]
  },
  {
   "cell_type": "markdown",
   "metadata": {},
   "source": [
    "# 2. Does the percentage of cases that are late vary by department?"
   ]
  },
  {
   "cell_type": "code",
   "execution_count": 9,
   "metadata": {},
   "outputs": [
    {
     "name": "stdout",
     "output_type": "stream",
     "text": [
      "-RECORD 0------------------------------------\n",
      " case_id              | 1014127332           \n",
      " case_opened_date     | 2018-01-01 00:42:00  \n",
      " case_closed_date     | 2018-01-01 12:29:00  \n",
      " case_due_date        | 2020-09-26 00:42:00  \n",
      " case_late            | false                \n",
      " num_days_late        | -998.5087616000001   \n",
      " case_closed          | true                 \n",
      " service_request_type | Stray Animal         \n",
      " SLA_days             | 999.0                \n",
      " case_status          | Closed               \n",
      " source_id            | svcCRMLS             \n",
      " request_address      | 2315  el paso st,... \n",
      " council_district     | 005                  \n",
      " num_weeks_late       | -142.6441088         \n",
      " zipcode              | 78207                \n",
      " case_age             | 1317                 \n",
      " days_to_closed       | 0                    \n",
      " case_lifetime        | 0                    \n",
      " department           | Animal Care Services \n",
      " dept_subject_to_SLA  | true                 \n",
      "-RECORD 1------------------------------------\n",
      " case_id              | 1014127333           \n",
      " case_opened_date     | 2018-01-01 00:46:00  \n",
      " case_closed_date     | 2018-01-03 08:11:00  \n",
      " case_due_date        | 2018-01-05 08:30:00  \n",
      " case_late            | false                \n",
      " num_days_late        | -2.0126041669999997  \n",
      " case_closed          | true                 \n",
      " service_request_type | Removal Of Obstru... \n",
      " SLA_days             | 4.322222222          \n",
      " case_status          | Closed               \n",
      " source_id            | svcCRMSS             \n",
      " request_address      | 2215  goliad rd, ... \n",
      " council_district     | 003                  \n",
      " num_weeks_late       | -0.28751488099999994 \n",
      " zipcode              | 78223                \n",
      " case_age             | 1317                 \n",
      " days_to_closed       | 2                    \n",
      " case_lifetime        | 2                    \n",
      " department           | Trans & Cap Impro... \n",
      " dept_subject_to_SLA  | true                 \n",
      "-RECORD 2------------------------------------\n",
      " case_id              | 1014127334           \n",
      " case_opened_date     | 2018-01-01 00:48:00  \n",
      " case_closed_date     | 2018-01-02 07:57:00  \n",
      " case_due_date        | 2018-01-05 08:30:00  \n",
      " case_late            | false                \n",
      " num_days_late        | -3.022337963         \n",
      " case_closed          | true                 \n",
      " service_request_type | Removal Of Obstru... \n",
      " SLA_days             | 4.320729167          \n",
      " case_status          | Closed               \n",
      " source_id            | svcCRMSS             \n",
      " request_address      | 102  palfrey st w... \n",
      " council_district     | 003                  \n",
      " num_weeks_late       | -0.43176256614285713 \n",
      " zipcode              | 78223                \n",
      " case_age             | 1317                 \n",
      " days_to_closed       | 1                    \n",
      " case_lifetime        | 1                    \n",
      " department           | Trans & Cap Impro... \n",
      " dept_subject_to_SLA  | true                 \n",
      "-RECORD 3------------------------------------\n",
      " case_id              | 1014127335           \n",
      " case_opened_date     | 2018-01-01 01:29:00  \n",
      " case_closed_date     | 2018-01-02 08:13:00  \n",
      " case_due_date        | 2018-01-17 08:30:00  \n",
      " case_late            | false                \n",
      " num_days_late        | -15.01148148         \n",
      " case_closed          | true                 \n",
      " service_request_type | Front Or Side Yar... \n",
      " SLA_days             | 16.29188657          \n",
      " case_status          | Closed               \n",
      " source_id            | svcCRMSS             \n",
      " request_address      | 114  la garde st,... \n",
      " council_district     | 003                  \n",
      " num_weeks_late       | -2.1444973542857144  \n",
      " zipcode              | 78223                \n",
      " case_age             | 1317                 \n",
      " days_to_closed       | 1                    \n",
      " case_lifetime        | 1                    \n",
      " department           | DSD/Code Enforcement \n",
      " dept_subject_to_SLA  | true                 \n",
      "-RECORD 4------------------------------------\n",
      " case_id              | 1014127336           \n",
      " case_opened_date     | 2018-01-01 01:34:00  \n",
      " case_closed_date     | 2018-01-01 13:29:00  \n",
      " case_due_date        | 2018-01-01 04:34:00  \n",
      " case_late            | true                 \n",
      " num_days_late        | 0.37216435200000003  \n",
      " case_closed          | true                 \n",
      " service_request_type | Animal Cruelty(Cr... \n",
      " SLA_days             | 0.125                \n",
      " case_status          | Closed               \n",
      " source_id            | svcCRMSS             \n",
      " request_address      | 734  clearview dr... \n",
      " council_district     | 007                  \n",
      " num_weeks_late       | 0.053166336          \n",
      " zipcode              | 78228                \n",
      " case_age             | 1317                 \n",
      " days_to_closed       | 0                    \n",
      " case_lifetime        | 0                    \n",
      " department           | Animal Care Services \n",
      " dept_subject_to_SLA  | true                 \n",
      "only showing top 5 rows\n",
      "\n"
     ]
    }
   ],
   "source": [
    "#Looking at first 5 values\n",
    "df.show(5, vertical=True)"
   ]
  },
  {
   "cell_type": "code",
   "execution_count": 10,
   "metadata": {},
   "outputs": [
    {
     "data": {
      "text/plain": [
       "Text(0.5, 1.0, '% of Late Cases By Department')"
      ]
     },
     "execution_count": 10,
     "metadata": {},
     "output_type": "execute_result"
    },
    {
     "data": {
      "image/png": "[encoded data removed]",
      "text/plain": [
       "<Figure size 1008x360 with 1 Axes>"
      ]
     },
     "metadata": {
      "needs_background": "light"
     },
     "output_type": "display_data"
    }
   ],
   "source": [
    "(\n",
    "    df.withColumn(\"case_late\", col(\"case_late\").cast(\"int\"))\n",
    "    .groupby(\"department\")\n",
    "    .agg(avg(\"case_late\").alias(\"probability_cases_late\"))\n",
    "    .toPandas()\n",
    "    .set_index(\"department\")\n",
    "    .probability_cases_late.sort_values()\n",
    "    .plot.barh(width=1, edgecolor=\"black\", color='thistle', figsize=(14, 5))\n",
    ")\n",
    "plt.xlabel(\"% Late Cases\")\n",
    "plt.title(\"% of Late Cases By Department\")"
   ]
  },
  {
   "cell_type": "markdown",
   "metadata": {},
   "source": [
    "## Answer: Yes, the number of cases late do vary by Dept."
   ]
  },
  {
   "cell_type": "markdown",
   "metadata": {},
   "source": [
    "# 3. On average, how late are the late cases by department?"
   ]
  },
  {
   "cell_type": "code",
   "execution_count": 11,
   "metadata": {},
   "outputs": [
    {
     "data": {
      "text/plain": [
       "[('case_id', 'int'),\n",
       " ('case_opened_date', 'timestamp'),\n",
       " ('case_closed_date', 'timestamp'),\n",
       " ('case_due_date', 'timestamp'),\n",
       " ('case_late', 'boolean'),\n",
       " ('num_days_late', 'double'),\n",
       " ('case_closed', 'boolean'),\n",
       " ('service_request_type', 'string'),\n",
       " ('SLA_days', 'double'),\n",
       " ('case_status', 'string'),\n",
       " ('source_id', 'string'),\n",
       " ('request_address', 'string'),\n",
       " ('council_district', 'string'),\n",
       " ('num_weeks_late', 'double'),\n",
       " ('zipcode', 'string'),\n",
       " ('case_age', 'int'),\n",
       " ('days_to_closed', 'int'),\n",
       " ('case_lifetime', 'int'),\n",
       " ('department', 'string'),\n",
       " ('dept_subject_to_SLA', 'boolean')]"
      ]
     },
     "execution_count": 11,
     "metadata": {},
     "output_type": "execute_result"
    }
   ],
   "source": [
    "#Looking at columns and datatypes\n",
    "df.dtypes"
   ]
  },
  {
   "cell_type": "code",
   "execution_count": 12,
   "metadata": {},
   "outputs": [
    {
     "data": {
      "text/plain": [
       "Text(0.5, 1.0, 'Avg Number of Weeks Late By Department')"
      ]
     },
     "execution_count": 12,
     "metadata": {},
     "output_type": "execute_result"
    },
    {
     "data": {
      "image/png": "[encoded data removed]",
      "text/plain": [
       "<Figure size 1008x360 with 1 Axes>"
      ]
     },
     "metadata": {
      "needs_background": "light"
     },
     "output_type": "display_data"
    }
   ],
   "source": [
    "(\n",
    "    df.where('case_late')\n",
    "    .groupby(\"department\")\n",
    "    .agg(avg(\"num_weeks_late\").alias(\"weeks_cases_late\"))\n",
    "    .toPandas()\n",
    "    .set_index(\"department\")\n",
    "    .weeks_cases_late.sort_values()\n",
    "    .plot.barh(width=1, edgecolor=\"black\", color='thistle', figsize=(14, 5))\n",
    ")\n",
    "plt.xlabel(\"Avg Number of Weeks Late\")\n",
    "plt.title(\"Avg Number of Weeks Late By Department\")"
   ]
  },
  {
   "cell_type": "markdown",
   "metadata": {},
   "source": [
    "## Answer:\n",
    "- Average number of weeks late by department:\n",
    "    - Customer Svc: 12-13 weeks\n",
    "    - DSD/Code Enforcement: 7-8 weeks\n",
    "    - Animal Care Svc: 3-3.5 weeks\n",
    "    - Parks & Recreation: 3 weeks\n",
    "    - Trans & cap improv.: 1-1.5 weeks\n",
    "    - Solid waste: 1 week\n",
    "    - Metro Health: slightly less than 1 week"
   ]
  },
  {
   "cell_type": "markdown",
   "metadata": {},
   "source": [
    "# 4. What is the service type that is the most late? Just for Parks & Rec?"
   ]
  },
  {
   "cell_type": "code",
   "execution_count": 13,
   "metadata": {},
   "outputs": [
    {
     "data": {
      "text/plain": [
       "Text(0.5, 1.0, 'Avg Number of Days Late By Service Request Type')"
      ]
     },
     "execution_count": 13,
     "metadata": {},
     "output_type": "execute_result"
    },
    {
     "data": {
      "image/png": "[encoded data removed]",
      "text/plain": [
       "<Figure size 1008x360 with 1 Axes>"
      ]
     },
     "metadata": {
      "needs_background": "light"
     },
     "output_type": "display_data"
    }
   ],
   "source": [
    "(\n",
    "    df.where('case_late')\n",
    "    .groupby(\"service_request_type\")\n",
    "    .agg(avg(\"num_days_late\").alias(\"days_cases_late\"))\n",
    "    .limit(10)\n",
    "    .toPandas()\n",
    "    .set_index(\"service_request_type\")\n",
    "    .days_cases_late.sort_values()\n",
    "    .plot.barh(width=1, edgecolor=\"black\", color='thistle', figsize=(14, 5))\n",
    ")\n",
    "plt.xlabel(\"Avg Number of Days Late\")\n",
    "plt.title(\"Avg Number of Days Late By Service Request Type\")"
   ]
  },
  {
   "cell_type": "markdown",
   "metadata": {},
   "source": [
    "## Answer: The service type that is most late is Graffiti and Markings Installation SMO (NEW)."
   ]
  },
  {
   "cell_type": "code",
   "execution_count": 14,
   "metadata": {},
   "outputs": [
    {
     "data": {
      "text/plain": [
       "Text(0.5, 1.0, 'Avg Number of Days Late By Service Request Type')"
      ]
     },
     "execution_count": 14,
     "metadata": {},
     "output_type": "execute_result"
    },
    {
     "data": {
      "image/png": "[encoded data removed]",
      "text/plain": [
       "<Figure size 1008x360 with 1 Axes>"
      ]
     },
     "metadata": {
      "needs_background": "light"
     },
     "output_type": "display_data"
    }
   ],
   "source": [
    "#Just for Parks and rec\n",
    "(\n",
    "    df.where('case_late').where(df.department=='Parks & Recreation')\n",
    "    .groupby(\"service_request_type\")\n",
    "    .agg(avg(\"num_days_late\").alias(\"days_cases_late\"))\n",
    "    .limit(5)\n",
    "    .toPandas()\n",
    "    .set_index(\"service_request_type\")\n",
    "    .days_cases_late.sort_values()\n",
    "    .plot.barh(width=1, edgecolor=\"black\", color='thistle', figsize=(14, 5))\n",
    ")\n",
    "plt.xlabel(\"Avg Number of Days Late\")\n",
    "plt.title(\"Avg Number of Days Late By Service Request Type\")"
   ]
  },
  {
   "cell_type": "markdown",
   "metadata": {},
   "source": [
    "## Answer: For Parks and Rec the most common service that is late is Major Park Improvement Install."
   ]
  },
  {
   "cell_type": "markdown",
   "metadata": {},
   "source": [
    "# 5. For the DSD/Code Enforcement department, what are the most common service request types? Look at other departments too."
   ]
  },
  {
   "cell_type": "code",
   "execution_count": 15,
   "metadata": {},
   "outputs": [
    {
     "data": {
      "text/plain": [
       "Text(0.5, 1.0, 'Requests in DSD/Code Enforcement')"
      ]
     },
     "execution_count": 15,
     "metadata": {},
     "output_type": "execute_result"
    },
    {
     "data": {
      "image/png": "[encoded data removed]",
      "text/plain": [
       "<Figure size 1008x360 with 1 Axes>"
      ]
     },
     "metadata": {
      "needs_background": "light"
     },
     "output_type": "display_data"
    }
   ],
   "source": [
    "(\n",
    "    df.where(expr('department==\"DSD/Code Enforcement\"'))\n",
    "    .groupby(\"service_request_type\")\n",
    "    .count()\n",
    "    .sort(desc('count'))\n",
    "    .limit(10)\n",
    "    .toPandas()\n",
    "    .set_index(\"service_request_type\")\n",
    "    .plot.barh(width=1, edgecolor=\"black\", color='thistle', figsize=(14, 5))\n",
    ")\n",
    "plt.xlabel(\"Count of Requests\")\n",
    "plt.title(\"Requests in DSD/Code Enforcement\")"
   ]
  },
  {
   "cell_type": "markdown",
   "metadata": {},
   "source": [
    "## Answer: Most common service type is overgrown yard/trash."
   ]
  },
  {
   "cell_type": "markdown",
   "metadata": {},
   "source": [
    "# 6. Does whether or not its a weekend matter for when a case is opened/closed?"
   ]
  },
  {
   "cell_type": "code",
   "execution_count": 16,
   "metadata": {},
   "outputs": [],
   "source": [
    "#Creating new weekday column for cases open\n",
    "df = df.withColumn(\"week_day_name\", date_format(\"case_opened_date\", \"E\"))"
   ]
  },
  {
   "cell_type": "code",
   "execution_count": 17,
   "metadata": {},
   "outputs": [
    {
     "name": "stdout",
     "output_type": "stream",
     "text": [
      "-RECORD 0------------------------------------\n",
      " case_id              | 1014127332           \n",
      " case_opened_date     | 2018-01-01 00:42:00  \n",
      " case_closed_date     | 2018-01-01 12:29:00  \n",
      " case_due_date        | 2020-09-26 00:42:00  \n",
      " case_late            | false                \n",
      " num_days_late        | -998.5087616000001   \n",
      " case_closed          | true                 \n",
      " service_request_type | Stray Animal         \n",
      " SLA_days             | 999.0                \n",
      " case_status          | Closed               \n",
      " source_id            | svcCRMLS             \n",
      " request_address      | 2315  el paso st,... \n",
      " council_district     | 005                  \n",
      " num_weeks_late       | -142.6441088         \n",
      " zipcode              | 78207                \n",
      " case_age             | 1317                 \n",
      " days_to_closed       | 0                    \n",
      " case_lifetime        | 0                    \n",
      " department           | Animal Care Services \n",
      " dept_subject_to_SLA  | true                 \n",
      " week_day_name        | Mon                  \n",
      "-RECORD 1------------------------------------\n",
      " case_id              | 1014127333           \n",
      " case_opened_date     | 2018-01-01 00:46:00  \n",
      " case_closed_date     | 2018-01-03 08:11:00  \n",
      " case_due_date        | 2018-01-05 08:30:00  \n",
      " case_late            | false                \n",
      " num_days_late        | -2.0126041669999997  \n",
      " case_closed          | true                 \n",
      " service_request_type | Removal Of Obstru... \n",
      " SLA_days             | 4.322222222          \n",
      " case_status          | Closed               \n",
      " source_id            | svcCRMSS             \n",
      " request_address      | 2215  goliad rd, ... \n",
      " council_district     | 003                  \n",
      " num_weeks_late       | -0.28751488099999994 \n",
      " zipcode              | 78223                \n",
      " case_age             | 1317                 \n",
      " days_to_closed       | 2                    \n",
      " case_lifetime        | 2                    \n",
      " department           | Trans & Cap Impro... \n",
      " dept_subject_to_SLA  | true                 \n",
      " week_day_name        | Mon                  \n",
      "-RECORD 2------------------------------------\n",
      " case_id              | 1014127334           \n",
      " case_opened_date     | 2018-01-01 00:48:00  \n",
      " case_closed_date     | 2018-01-02 07:57:00  \n",
      " case_due_date        | 2018-01-05 08:30:00  \n",
      " case_late            | false                \n",
      " num_days_late        | -3.022337963         \n",
      " case_closed          | true                 \n",
      " service_request_type | Removal Of Obstru... \n",
      " SLA_days             | 4.320729167          \n",
      " case_status          | Closed               \n",
      " source_id            | svcCRMSS             \n",
      " request_address      | 102  palfrey st w... \n",
      " council_district     | 003                  \n",
      " num_weeks_late       | -0.43176256614285713 \n",
      " zipcode              | 78223                \n",
      " case_age             | 1317                 \n",
      " days_to_closed       | 1                    \n",
      " case_lifetime        | 1                    \n",
      " department           | Trans & Cap Impro... \n",
      " dept_subject_to_SLA  | true                 \n",
      " week_day_name        | Mon                  \n",
      "-RECORD 3------------------------------------\n",
      " case_id              | 1014127335           \n",
      " case_opened_date     | 2018-01-01 01:29:00  \n",
      " case_closed_date     | 2018-01-02 08:13:00  \n",
      " case_due_date        | 2018-01-17 08:30:00  \n",
      " case_late            | false                \n",
      " num_days_late        | -15.01148148         \n",
      " case_closed          | true                 \n",
      " service_request_type | Front Or Side Yar... \n",
      " SLA_days             | 16.29188657          \n",
      " case_status          | Closed               \n",
      " source_id            | svcCRMSS             \n",
      " request_address      | 114  la garde st,... \n",
      " council_district     | 003                  \n",
      " num_weeks_late       | -2.1444973542857144  \n",
      " zipcode              | 78223                \n",
      " case_age             | 1317                 \n",
      " days_to_closed       | 1                    \n",
      " case_lifetime        | 1                    \n",
      " department           | DSD/Code Enforcement \n",
      " dept_subject_to_SLA  | true                 \n",
      " week_day_name        | Mon                  \n",
      "-RECORD 4------------------------------------\n",
      " case_id              | 1014127336           \n",
      " case_opened_date     | 2018-01-01 01:34:00  \n",
      " case_closed_date     | 2018-01-01 13:29:00  \n",
      " case_due_date        | 2018-01-01 04:34:00  \n",
      " case_late            | true                 \n",
      " num_days_late        | 0.37216435200000003  \n",
      " case_closed          | true                 \n",
      " service_request_type | Animal Cruelty(Cr... \n",
      " SLA_days             | 0.125                \n",
      " case_status          | Closed               \n",
      " source_id            | svcCRMSS             \n",
      " request_address      | 734  clearview dr... \n",
      " council_district     | 007                  \n",
      " num_weeks_late       | 0.053166336          \n",
      " zipcode              | 78228                \n",
      " case_age             | 1317                 \n",
      " days_to_closed       | 0                    \n",
      " case_lifetime        | 0                    \n",
      " department           | Animal Care Services \n",
      " dept_subject_to_SLA  | true                 \n",
      " week_day_name        | Mon                  \n",
      "only showing top 5 rows\n",
      "\n"
     ]
    }
   ],
   "source": [
    "#looking at first 5 values after adding weekday column\n",
    "df.show(5, vertical= True)"
   ]
  },
  {
   "cell_type": "code",
   "execution_count": 18,
   "metadata": {},
   "outputs": [
    {
     "data": {
      "text/plain": [
       "Text(0.5, 1.0, 'Cases Opened by Weekday')"
      ]
     },
     "execution_count": 18,
     "metadata": {},
     "output_type": "execute_result"
    },
    {
     "data": {
      "image/png": "[encoded data removed]",
      "text/plain": [
       "<Figure size 1008x360 with 1 Axes>"
      ]
     },
     "metadata": {
      "needs_background": "light"
     },
     "output_type": "display_data"
    }
   ],
   "source": [
    "#cases open\n",
    "\n",
    "(\n",
    "    df.groupby('week_day_name')\n",
    "    .count()\n",
    "    .sort(desc('count'))\n",
    "    .toPandas()\n",
    "    .set_index('week_day_name')['count']\n",
    "    .plot.barh(width=1, edgecolor='black', color='thistle', figsize= (14,5))\n",
    "    \n",
    ")\n",
    "\n",
    "plt.xlabel('Cases Opened')\n",
    "plt.ylabel(\" \")\n",
    "plt.title('Cases Opened by Weekday')"
   ]
  },
  {
   "cell_type": "code",
   "execution_count": 19,
   "metadata": {},
   "outputs": [],
   "source": [
    "#Creating new weekday column for cases closed\n",
    "df = df.withColumn(\"week_day_name_closed\", date_format(\"case_closed_date\", \"E\"))"
   ]
  },
  {
   "cell_type": "code",
   "execution_count": 20,
   "metadata": {},
   "outputs": [
    {
     "data": {
      "text/plain": [
       "Text(0.5, 1.0, 'Cases Closed by Weekday')"
      ]
     },
     "execution_count": 20,
     "metadata": {},
     "output_type": "execute_result"
    },
    {
     "data": {
      "image/png": "[encoded data removed]",
      "text/plain": [
       "<Figure size 1008x360 with 1 Axes>"
      ]
     },
     "metadata": {
      "needs_background": "light"
     },
     "output_type": "display_data"
    }
   ],
   "source": [
    "#day of the week case was closed\n",
    "(\n",
    "    df.groupBy(\"week_day_name_closed\")\n",
    "    .count()\n",
    "    .sort(desc('count'))\n",
    "    # then pass the data to pandas for visualization\n",
    "    .toPandas()\n",
    "    .set_index(\"week_day_name_closed\")\n",
    "    .plot.barh(width=1, edgecolor=\"black\", color='thistle', figsize=(14, 5))\n",
    ")\n",
    "\n",
    "plt.xlabel(\"Cases Closed\")\n",
    "plt.ylabel(\" \")\n",
    "plt.title(\"Cases Closed by Weekday\")"
   ]
  },
  {
   "cell_type": "markdown",
   "metadata": {},
   "source": [
    "## Answer: For both open and closed cases there are less cases on the weekend (Sunday and Saturday)."
   ]
  },
  {
   "cell_type": "markdown",
   "metadata": {},
   "source": [
    "# 7. On average, how many cases are opened a day for the Customer Service department?"
   ]
  },
  {
   "cell_type": "code",
   "execution_count": 21,
   "metadata": {},
   "outputs": [],
   "source": [
    "#create new dataframe\n",
    "num_cases = (\n",
    "    df.withColumn(\"case_opened_date\", expr(\"date(case_opened_date)\"))\n",
    "    .filter(df.department == \"Customer Service\")\n",
    "    .groupby(\"case_opened_date\")\n",
    "    .count()\n",
    "    .toPandas()\n",
    ")"
   ]
  },
  {
   "cell_type": "code",
   "execution_count": 22,
   "metadata": {},
   "outputs": [
    {
     "data": {
      "text/plain": [
       "count    5.564453\n",
       "dtype: float64"
      ]
     },
     "execution_count": 22,
     "metadata": {},
     "output_type": "execute_result"
    }
   ],
   "source": [
    "#cases opened on average\n",
    "num_cases.mean()"
   ]
  },
  {
   "cell_type": "code",
   "execution_count": 23,
   "metadata": {},
   "outputs": [
    {
     "data": {
      "image/png": "[encoded data removed]",
      "text/plain": [
       "<Figure size 1008x360 with 1 Axes>"
      ]
     },
     "metadata": {
      "needs_background": "light"
     },
     "output_type": "display_data"
    }
   ],
   "source": [
    "#visualize it\n",
    "num_of_cases = num_cases['count']\n",
    "mean_cases = num_of_cases.mean()\n",
    "num_of_cases.value_counts().sort_index().plot.bar(width=1, edgecolor=\"black\", color='thistle', figsize=(14, 5))\n",
    "plt.xlabel(\"Number of Cases Opened/Day\")\n",
    "plt.ylabel(\"Frequency\")\n",
    "plt.title(\"How Many Cases are Opened in a Day?\")\n",
    "plt.xticks(rotation=0)\n",
    "plt.show()"
   ]
  },
  {
   "cell_type": "markdown",
   "metadata": {},
   "source": [
    "## Answer: the number of cases opened on average is about 5 cases a day"
   ]
  },
  {
   "cell_type": "markdown",
   "metadata": {},
   "source": [
    "# 8. Does the number of service requests for the solid waste department vary by day of the week?"
   ]
  },
  {
   "cell_type": "code",
   "execution_count": 24,
   "metadata": {},
   "outputs": [
    {
     "name": "stdout",
     "output_type": "stream",
     "text": [
      "+--------------------+------+\n",
      "|          department| count|\n",
      "+--------------------+------+\n",
      "|Animal Care Services|116915|\n",
      "|        City Council|    33|\n",
      "|    Customer Service|  2849|\n",
      "|DSD/Code Enforcement|321374|\n",
      "|        Metro Health|  5163|\n",
      "|  Parks & Recreation| 19907|\n",
      "|         Solid Waste|279270|\n",
      "|Trans & Cap Impro...| 96193|\n",
      "+--------------------+------+\n",
      "\n"
     ]
    }
   ],
   "source": [
    "#Looking at values counts of dataframe\n",
    "df.groupBy(\"department\").count().orderBy('department').show()"
   ]
  },
  {
   "cell_type": "code",
   "execution_count": 31,
   "metadata": {},
   "outputs": [
    {
     "name": "stdout",
     "output_type": "stream",
     "text": [
      "+--------------------+-------------+-----+\n",
      "|service_request_type|week_day_name|count|\n",
      "+--------------------+-------------+-----+\n",
      "|           No Pickup|          Wed|11828|\n",
      "| Service Information|          Wed|   26|\n",
      "|Request for Comme...|          Tue|   71|\n",
      "|Organics Cart Rem...|          Wed|   33|\n",
      "|Brush Partial Pic...|          Mon|   14|\n",
      "|Recycle Container...|          Thu|    4|\n",
      "|           No Pickup|          Thu|14372|\n",
      "|Brush Missed Pick up|          Sun|   15|\n",
      "|      Dial-A-Trailer|          Tue|    4|\n",
      "|Additional Cart R...|          Thu|  548|\n",
      "|      Cart Placement|          Sat|   24|\n",
      "|Bulk Partial Pick Up|          Thu|    7|\n",
      "|Organics Cart Rem...|          Tue|   24|\n",
      "|Organics Info / L...|          Thu|  203|\n",
      "|Disability Assist...|          Sat|  231|\n",
      "|3rd Call Bagged L...|          Sat|    1|\n",
      "|Additional Organi...|          Tue|    4|\n",
      "|Disability Servic...|          Wed|  107|\n",
      "|Solid Waste - Mis...|          Sun|   15|\n",
      "|Brush_Received In...|          Tue|    1|\n",
      "+--------------------+-------------+-----+\n",
      "only showing top 20 rows\n",
      "\n"
     ]
    }
   ],
   "source": [
    "#Looking at number of request by weekday in Solid waste department only\n",
    "(df.where(df.department == 'Solid Waste')\n",
    "    .groupby('service_request_type', 'week_day_name')\n",
    "    .count().show())"
   ]
  },
  {
   "cell_type": "code",
   "execution_count": 42,
   "metadata": {},
   "outputs": [],
   "source": [
    "#Creating new dataframe with solid waste department only\n",
    "sw_cases= (\n",
    "    df.filter(df.department == 'Solid Waste')\n",
    "    .groupby('service_request_type', 'week_day_name')\n",
    "    .count()\n",
    "    .sort(desc('count'))\n",
    "    .toPandas()\n",
    ")"
   ]
  },
  {
   "cell_type": "code",
   "execution_count": 43,
   "metadata": {},
   "outputs": [],
   "source": [
    "sw_cases = sw_cases.groupby(['week_day_name']).mean()"
   ]
  },
  {
   "cell_type": "code",
   "execution_count": 53,
   "metadata": {},
   "outputs": [
    {
     "data": {
      "text/html": [
       "<div>\n",
       "<style scoped>\n",
       "    .dataframe tbody tr th:only-of-type {\n",
       "        vertical-align: middle;\n",
       "    }\n",
       "\n",
       "    .dataframe tbody tr th {\n",
       "        vertical-align: top;\n",
       "    }\n",
       "\n",
       "    .dataframe thead th {\n",
       "        text-align: right;\n",
       "    }\n",
       "</style>\n",
       "<table border=\"1\" class=\"dataframe\">\n",
       "  <thead>\n",
       "    <tr style=\"text-align: right;\">\n",
       "      <th></th>\n",
       "      <th>count</th>\n",
       "    </tr>\n",
       "    <tr>\n",
       "      <th>week_day_name</th>\n",
       "      <th></th>\n",
       "    </tr>\n",
       "  </thead>\n",
       "  <tbody>\n",
       "    <tr>\n",
       "      <th>Fri</th>\n",
       "      <td>948.203704</td>\n",
       "    </tr>\n",
       "    <tr>\n",
       "      <th>Mon</th>\n",
       "      <td>1117.019231</td>\n",
       "    </tr>\n",
       "    <tr>\n",
       "      <th>Sat</th>\n",
       "      <td>364.571429</td>\n",
       "    </tr>\n",
       "    <tr>\n",
       "      <th>Sun</th>\n",
       "      <td>191.250000</td>\n",
       "    </tr>\n",
       "    <tr>\n",
       "      <th>Thu</th>\n",
       "      <td>883.666667</td>\n",
       "    </tr>\n",
       "    <tr>\n",
       "      <th>Tue</th>\n",
       "      <td>1076.296296</td>\n",
       "    </tr>\n",
       "    <tr>\n",
       "      <th>Wed</th>\n",
       "      <td>822.490196</td>\n",
       "    </tr>\n",
       "  </tbody>\n",
       "</table>\n",
       "</div>"
      ],
      "text/plain": [
       "                     count\n",
       "week_day_name             \n",
       "Fri             948.203704\n",
       "Mon            1117.019231\n",
       "Sat             364.571429\n",
       "Sun             191.250000\n",
       "Thu             883.666667\n",
       "Tue            1076.296296\n",
       "Wed             822.490196"
      ]
     },
     "execution_count": 53,
     "metadata": {},
     "output_type": "execute_result"
    }
   ],
   "source": [
    "sw_cases"
   ]
  },
  {
   "cell_type": "code",
   "execution_count": 45,
   "metadata": {},
   "outputs": [
    {
     "data": {
      "text/plain": [
       "<AxesSubplot:xlabel='week_day_name'>"
      ]
     },
     "execution_count": 45,
     "metadata": {},
     "output_type": "execute_result"
    },
    {
     "data": {
      "image/png": "[encoded data removed]",
      "text/plain": [
       "<Figure size 1008x360 with 1 Axes>"
      ]
     },
     "metadata": {
      "needs_background": "light"
     },
     "output_type": "display_data"
    }
   ],
   "source": [
    "#Visualize it\n",
    "sw_cases.plot.bar(width=1, edgecolor=\"black\", color='thistle', figsize=(14, 5))"
   ]
  },
  {
   "cell_type": "markdown",
   "metadata": {},
   "source": [
    "## Answer: The number of cases seems to decrease over the weekend (Saturday and Sunday)"
   ]
  }
 ],
 "metadata": {
  "kernelspec": {
   "display_name": "Python 3",
   "language": "python",
   "name": "python3"
  },
  "language_info": {
   "codemirror_mode": {
    "name": "ipython",
    "version": 3
   },
   "file_extension": ".py",
   "mimetype": "text/x-python",
   "name": "python",
   "nbconvert_exporter": "python",
   "pygments_lexer": "ipython3",
   "version": "3.8.5"
  }
 },
 "nbformat": 4,
 "nbformat_minor": 4
}
